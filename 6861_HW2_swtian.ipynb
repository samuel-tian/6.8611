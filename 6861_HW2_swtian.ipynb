{
  "cells": [
    {
      "cell_type": "code",
      "execution_count": 1,
      "metadata": {
        "id": "FU7xWiY6TyWS"
      },
      "outputs": [],
      "source": [
        "# % % bash\n",
        "# !(stat - t / usr/local/lib/*/dist-packages/google/colab > /dev/null 2 > &1) & & exit\n",
        "# rm - rf 68611-hw2\n"
      ]
    },
    {
      "cell_type": "code",
      "execution_count": 2,
      "metadata": {
        "id": "5AyMA9rK1Rhf"
      },
      "outputs": [],
      "source": [
        "import sys\n",
        "import os\n",
        "os.makedirs(\"68611-hw2\", exist_ok=True)\n",
        "sys.path.append(\"./68611-hw2\")\n"
      ]
    },
    {
      "cell_type": "code",
      "execution_count": 3,
      "metadata": {
        "id": "BL1IfnRdPdsl"
      },
      "outputs": [
        {
          "name": "stdout",
          "output_type": "stream",
          "text": [
            "Requirement already satisfied: sacrebleu in /home/swtian/.virtualenvs/pset/lib/python3.8/site-packages (2.2.1)\n",
            "Requirement already satisfied: numpy>=1.17 in /home/swtian/.virtualenvs/pset/lib/python3.8/site-packages (from sacrebleu) (1.23.3)\n",
            "Requirement already satisfied: lxml in /home/swtian/.virtualenvs/pset/lib/python3.8/site-packages (from sacrebleu) (4.9.1)\n",
            "Requirement already satisfied: colorama in /home/swtian/.virtualenvs/pset/lib/python3.8/site-packages (from sacrebleu) (0.4.5)\n",
            "Requirement already satisfied: tabulate>=0.8.9 in /home/swtian/.virtualenvs/pset/lib/python3.8/site-packages (from sacrebleu) (0.9.0)\n",
            "Requirement already satisfied: portalocker in /home/swtian/.virtualenvs/pset/lib/python3.8/site-packages (from sacrebleu) (2.5.1)\n",
            "Requirement already satisfied: regex in /home/swtian/.virtualenvs/pset/lib/python3.8/site-packages (from sacrebleu) (2022.9.13)\n"
          ]
        }
      ],
      "source": [
        "!pip install sacrebleu\n"
      ]
    },
    {
      "cell_type": "markdown",
      "metadata": {
        "id": "ilKcWfSHYltK"
      },
      "source": [
        "# **Part 0: Data Loading and Preprocessing**\n",
        "\n",
        "In this section we will load the data that we will be using throughout the lab and perform some preprocessing steps. We will also define some functions that will be useful for training and evaluating your models. You do not need to write any code for this part, but you are encouraged to read through the code carefully and make sure you understand it.\n",
        "\n",
        "First we download the data. The dataset consists of parallel English and Vietnamese sentences (IWSLT'15 English-Vietnamese translation data). In the first two parts of the lab, you will do language modeling using only the English data, and in the final part of the lab you will do translation from Vietnamese to English."
      ]
    },
    {
      "cell_type": "code",
      "execution_count": 4,
      "metadata": {
        "id": "rhqzGV7qZD2d"
      },
      "outputs": [],
      "source": [
        "# Download data\n",
        "# !wget - nv - O ./68611-hw2/train.en https: // nlp.stanford.edu/projects/nmt/data/iwslt15.en-vi/train.en\n",
        "# !wget - nv - O ./68611-hw2/train.vi https: // nlp.stanford.edu/projects/nmt/data/iwslt15.en-vi/train.vi\n",
        "# !wget - nv - O ./68611-hw2/tst2013.en https: // nlp.stanford.edu/projects/nmt/data/iwslt15.en-vi/tst2013.en\n",
        "# !wget - nv - O ./68611-hw2/tst2013.vi https: // nlp.stanford.edu/projects/nmt/data/iwslt15.en-vi/tst2013.vi\n",
        "# !wget - nv - O ./68611-hw2/vocab.en https: // nlp.stanford.edu/projects/nmt/data/iwslt15.en-vi/vocab.en\n",
        "# !wget - nv - O ./68611-hw2/vocab.vi https: // nlp.stanford.edu/projects/nmt/data/iwslt15.en-vi/vocab.vi\n"
      ]
    },
    {
      "cell_type": "markdown",
      "metadata": {
        "id": "0EUZEwI8ksBe"
      },
      "source": [
        "Next we read and store the data."
      ]
    },
    {
      "cell_type": "code",
      "execution_count": 5,
      "metadata": {
        "id": "FzanSf24ZTJa"
      },
      "outputs": [],
      "source": [
        "def read_sentence_file(filename):\n",
        "    sentences_list = []\n",
        "    with open(filename, \"r\") as f:\n",
        "        for line in f:\n",
        "            sentences_list.append(line.strip().split())\n",
        "    return sentences_list\n",
        "\n",
        "\n",
        "def read_vocab_file(filename):\n",
        "    with open(filename, \"r\") as f:\n",
        "        return [line.strip() for line in f]\n",
        "\n",
        "\n",
        "src_vocab_set = read_vocab_file(os.path.join(\"./68611-hw2\", \"vocab.vi\"))\n",
        "trg_vocab_set = read_vocab_file(os.path.join(\"./68611-hw2\", \"vocab.en\"))\n",
        "\n",
        "train_src_sentences_list = read_sentence_file(os.path.join(\"./68611-hw2\",\n",
        "                                                           \"train.vi\"))\n",
        "train_trg_sentences_list = read_sentence_file(os.path.join(\"./68611-hw2\",\n",
        "                                                           \"train.en\"))\n",
        "assert len(train_src_sentences_list) == len(train_trg_sentences_list)\n",
        "\n",
        "test_src_sentences_list = read_sentence_file(os.path.join(\"./68611-hw2\",\n",
        "                                                          \"tst2013.vi\"))\n",
        "test_trg_sentences_list = read_sentence_file(os.path.join(\"./68611-hw2\",\n",
        "                                                          \"tst2013.en\"))\n",
        "assert len(test_src_sentences_list) == len(test_trg_sentences_list)\n"
      ]
    },
    {
      "cell_type": "markdown",
      "metadata": {
        "id": "Yo11GNvikUPl"
      },
      "source": [
        "Next we do preprocessing on the dataset, and we perform a preliminary data analysis."
      ]
    },
    {
      "cell_type": "code",
      "execution_count": 6,
      "metadata": {
        "id": "dO2t7gaAZvSc"
      },
      "outputs": [
        {
          "name": "stdout",
          "output_type": "stream",
          "text": [
            "Number of training (src, trg) sentence pairs: 108748\n",
            "Number of validation (src, trg) sentence pairs: 12083\n",
            "Number of testing (src, trg) sentence pairs: 1139\n",
            "Size of en vocab set (including '<pad>', '<unk>', '<s>', '</s>'): 7710\n",
            "Size of vi vocab set (including '<pad>', '<unk>', '<s>', '</s>'): 17192\n",
            "Training sentence avg. length: 20 \n",
            "Training sentence length at 95-percentile: 42\n",
            "Training sentence length distribution (x-axis is length range and y-axis is count):\n",
            "\n"
          ]
        },
        {
          "data": {
            "image/png": "[encoded data removed]",
            "text/plain": [
              "<Figure size 640x480 with 1 Axes>"
            ]
          },
          "metadata": {},
          "output_type": "display_data"
        },
        {
          "name": "stdout",
          "output_type": "stream",
          "text": [
            "Example Vietnamese input: ['Adam', 'Sadowsky', 'dàn', 'dựng', '1', 'video', 'âm', 'nhạc', 'hiện', 'tượng', '.']\n",
            "Its target English output: ['Adam', 'Sadowsky', ':', 'How', 'to', 'engineer', 'a', 'viral', 'music', 'video']\n"
          ]
        }
      ],
      "source": [
        "import numpy as np\n",
        "import matplotlib.pyplot as plt\n",
        "\n",
        "\n",
        "MAX_SENT_LENGTH = 48\n",
        "MAX_SENT_LENGTH_PLUS_SOS_EOS = 50\n",
        "\n",
        "# We only keep sentences that do not exceed 48 words, so that later when we\n",
        "# add <s> and </s> to a sentence it still won't exceed 50 words.\n",
        "\n",
        "\n",
        "def filter_data(src_sentences_list, trg_sentences_list, max_len):\n",
        "    new_src_sentences_list, new_trg_sentences_list = [], []\n",
        "    for src_sent, trg_sent in zip(src_sentences_list, trg_sentences_list):\n",
        "        if (len(src_sent) <= max_len and len(trg_sent) <= max_len\n",
        "                and len(src_sent) > 0 and len(trg_sent)) > 0:\n",
        "            new_src_sentences_list.append(src_sent)\n",
        "            new_trg_sentences_list.append(trg_sent)\n",
        "    return new_src_sentences_list, new_trg_sentences_list\n",
        "\n",
        "\n",
        "train_src_sentences_list, train_trg_sentences_list = filter_data(\n",
        "    train_src_sentences_list, train_trg_sentences_list, max_len=MAX_SENT_LENGTH)\n",
        "test_src_sentences_list, test_trg_sentences_list = filter_data(\n",
        "    test_src_sentences_list, test_trg_sentences_list, max_len=MAX_SENT_LENGTH)\n",
        "\n",
        "# We take 10% of the training data to be the validation set.\n",
        "num_val = int(len(train_src_sentences_list) * 0.1)\n",
        "val_src_sentences_list = train_src_sentences_list[:num_val]\n",
        "val_trg_sentences_list = train_trg_sentences_list[:num_val]\n",
        "train_src_sentences_list = train_src_sentences_list[num_val:]\n",
        "train_trg_sentences_list = train_trg_sentences_list[num_val:]\n",
        "\n",
        "# Show some data stats\n",
        "print(\"Number of training (src, trg) sentence pairs: %d\" %\n",
        "      len(train_src_sentences_list))\n",
        "print(\"Number of validation (src, trg) sentence pairs: %d\" %\n",
        "      len(val_src_sentences_list))\n",
        "print(\"Number of testing (src, trg) sentence pairs: %d\" %\n",
        "      len(test_src_sentences_list))\n",
        "src_vocab_set = ['<pad>'] + src_vocab_set\n",
        "trg_vocab_set = ['<pad>'] + trg_vocab_set\n",
        "print(\"Size of en vocab set (including '<pad>', '<unk>', '<s>', '</s>'): %d\" %\n",
        "      len(src_vocab_set))\n",
        "print(\"Size of vi vocab set (including '<pad>', '<unk>', '<s>', '</s>'): %d\" %\n",
        "      len(trg_vocab_set))\n",
        "\n",
        "length = [len(sent) for sent in train_src_sentences_list]\n",
        "print('Training sentence avg. length: %d ' % np.mean(length))\n",
        "print('Training sentence length at 95-percentile: %d' %\n",
        "      np.percentile(length, 95))\n",
        "print('Training sentence length distribution '\n",
        "      '(x-axis is length range and y-axis is count):\\n')\n",
        "plt.hist(length, bins=5)\n",
        "plt.show()\n",
        "\n",
        "print('Example Vietnamese input: ' + str(train_src_sentences_list[0]))\n",
        "print('Its target English output: ' + str(train_trg_sentences_list[0]))\n"
      ]
    },
    {
      "cell_type": "markdown",
      "metadata": {
        "id": "vQI_A47IlPmO"
      },
      "source": [
        "Here we setup our PyTorch environment."
      ]
    },
    {
      "cell_type": "code",
      "execution_count": 7,
      "metadata": {
        "id": "oBNOk0XbZ4i4"
      },
      "outputs": [],
      "source": [
        "import torch\n",
        "import torch.nn as nn\n",
        "import torch.nn.functional as F\n",
        "\n",
        "device = \"cuda\" if torch.cuda.is_available() else \"cpu\"\n",
        "assert device == \"cuda\"   # use gpu whenever you can!\n",
        "\n",
        "seed = 42\n",
        "np.random.seed(seed)\n",
        "torch.manual_seed(seed)\n",
        "torch.cuda.manual_seed(seed)\n"
      ]
    },
    {
      "cell_type": "markdown",
      "metadata": {
        "id": "znPbxQJvleTJ"
      },
      "source": [
        "We define custom dataset classes for both the language modeling task and the machine translation task so that we can use PyTorch's built-in dataset tools."
      ]
    },
    {
      "cell_type": "code",
      "execution_count": 8,
      "metadata": {
        "id": "hYtacoWTaTms"
      },
      "outputs": [],
      "source": [
        "from torch.utils import data\n",
        "\n",
        "\n",
        "# These IDs are reserved.\n",
        "PAD_INDEX = 0\n",
        "UNK_INDEX = 1\n",
        "SOS_INDEX = 2\n",
        "EOS_INDEX = 3\n",
        "\n",
        "\n",
        "class LMDataset(data.Dataset):\n",
        "    def __init__(self, src_sentences, src_vocabs, sampling=1.):\n",
        "        self.src_sentences = src_sentences[:int(len(src_sentences) * sampling)]\n",
        "\n",
        "        self.max_src_seq_length = MAX_SENT_LENGTH_PLUS_SOS_EOS\n",
        "\n",
        "        self.src_vocabs = src_vocabs\n",
        "\n",
        "        self.src_v2id = {v: i for i, v in enumerate(src_vocabs)}\n",
        "        self.src_id2v = {val: key for key, val in self.src_v2id.items()}\n",
        "\n",
        "    def __len__(self):\n",
        "        return len(self.src_sentences)\n",
        "\n",
        "    def __getitem__(self, index):\n",
        "        sent = self.src_sentences[index]\n",
        "        sent_len = len(sent) + 2   # add <s> and </s> to each sentence\n",
        "        sent_id = []\n",
        "        for w in sent:\n",
        "            if w not in self.src_vocabs:\n",
        "                w = '<unk>'\n",
        "            sent_id.append(self.src_v2id[w])\n",
        "        src_id = ([SOS_INDEX] + sent_id + [EOS_INDEX] + [PAD_INDEX] *\n",
        "                  (self.max_src_seq_length - sent_len))\n",
        "        trg_id = (sent_id + [EOS_INDEX] + [PAD_INDEX] *\n",
        "                  (self.max_src_seq_length - sent_len + 1))\n",
        "\n",
        "        return torch.tensor(src_id), sent_len, torch.tensor(trg_id), sent_len\n",
        "\n",
        "\n",
        "class MTDataset(data.Dataset):\n",
        "    def __init__(self, src_sentences, src_vocabs, trg_sentences, trg_vocabs,\n",
        "                 sampling=1.):\n",
        "        self.src_sentences = src_sentences[:int(len(src_sentences) * sampling)]\n",
        "        self.trg_sentences = trg_sentences[:int(len(src_sentences) * sampling)]\n",
        "\n",
        "        self.max_src_seq_length = MAX_SENT_LENGTH_PLUS_SOS_EOS\n",
        "        self.max_trg_seq_length = MAX_SENT_LENGTH_PLUS_SOS_EOS\n",
        "\n",
        "        self.src_vocabs = src_vocabs\n",
        "        self.trg_vocabs = trg_vocabs\n",
        "\n",
        "        self.src_v2id = {v: i for i, v in enumerate(src_vocabs)}\n",
        "        self.src_id2v = {val: key for key, val in self.src_v2id.items()}\n",
        "        self.trg_v2id = {v: i for i, v in enumerate(trg_vocabs)}\n",
        "        self.trg_id2v = {val: key for key, val in self.trg_v2id.items()}\n",
        "\n",
        "    def __len__(self):\n",
        "        return len(self.src_sentences)\n",
        "\n",
        "    def __getitem__(self, index):\n",
        "        src_sent = self.src_sentences[index]\n",
        "        src_len = len(src_sent) + 2   # add <s> and </s> to each sentence\n",
        "        src_id = []\n",
        "        for w in src_sent:\n",
        "            if w not in self.src_vocabs:\n",
        "                w = '<unk>'\n",
        "            src_id.append(self.src_v2id[w])\n",
        "        src_id = ([SOS_INDEX] + src_id + [EOS_INDEX] + [PAD_INDEX] *\n",
        "                  (self.max_src_seq_length - src_len))\n",
        "\n",
        "        trg_sent = self.trg_sentences[index]\n",
        "        trg_len = len(trg_sent) + 2\n",
        "        trg_id = []\n",
        "        for w in trg_sent:\n",
        "            if w not in self.trg_vocabs:\n",
        "                w = '<unk>'\n",
        "            trg_id.append(self.trg_v2id[w])\n",
        "        trg_id = ([SOS_INDEX] + trg_id + [EOS_INDEX] + [PAD_INDEX] *\n",
        "                  (self.max_trg_seq_length - trg_len))\n",
        "\n",
        "        return torch.tensor(src_id), src_len, torch.tensor(trg_id), trg_len\n"
      ]
    },
    {
      "cell_type": "markdown",
      "metadata": {
        "id": "6xfQ4PSYl1Jz"
      },
      "source": [
        "Next we instantiate our datasets and data loaders. The data loaders are what we will iterate over when training and evaluating our models."
      ]
    },
    {
      "cell_type": "code",
      "execution_count": 9,
      "metadata": {
        "id": "CR8M8apZivz-"
      },
      "outputs": [],
      "source": [
        "batch_size = 128  # note that this is a hyperparameter you may want to adjust\n",
        "\n",
        "lm_train_set = LMDataset(train_trg_sentences_list, trg_vocab_set, sampling=1.)\n",
        "lm_train_data_loader = data.DataLoader(lm_train_set, batch_size=batch_size,\n",
        "                                       num_workers=8, shuffle=True)\n",
        "\n",
        "lm_val_set = LMDataset(val_trg_sentences_list, trg_vocab_set, sampling=1.)\n",
        "lm_val_data_loader = data.DataLoader(lm_val_set, batch_size=batch_size, num_workers=8,\n",
        "                                     shuffle=False)\n",
        "\n",
        "# You can try on a smaller training set by setting a smaller `sampling`.\n",
        "mt_train_set = MTDataset(train_src_sentences_list, src_vocab_set,\n",
        "                         train_trg_sentences_list, trg_vocab_set, sampling=1.)\n",
        "mt_train_data_loader = data.DataLoader(mt_train_set, batch_size=batch_size,\n",
        "                                       num_workers=8, shuffle=True)\n",
        "\n",
        "mt_val_set = MTDataset(val_src_sentences_list, src_vocab_set,\n",
        "                       val_trg_sentences_list, trg_vocab_set, sampling=1.)\n",
        "mt_val_data_loader = data.DataLoader(mt_val_set, batch_size=batch_size, num_workers=8,\n",
        "                                     shuffle=False)\n"
      ]
    },
    {
      "cell_type": "markdown",
      "metadata": {
        "id": "zEVw2xxRmFIC"
      },
      "source": [
        "Now we define the functions that will actually carry out the training process. You are strongly encouraged to read these carefully; doing so will likely save you time as you work on your model implementations.\n",
        "\n",
        "One important point to take note of here is that while in class we discussed using basic stochastic gradient descent (SGD) for our optimization method, in practice it is often better to use optimizers with adaptive learning rates, such as the Adam optimizer that we use here, the details of which you can find in [this paper](https://arxiv.org/abs/1412.6980)."
      ]
    },
    {
      "cell_type": "code",
      "execution_count": 10,
      "metadata": {
        "id": "c6XZLkJbGXcC"
      },
      "outputs": [],
      "source": [
        "import math\n",
        "\n",
        "\n",
        "class SimpleLossCompute:\n",
        "    \"\"\"A simple loss compute and train function.\"\"\"\n",
        "\n",
        "    def __init__(self, generator, criterion, opt=None):\n",
        "        self.generator = generator\n",
        "        self.criterion = criterion\n",
        "        self.opt = opt\n",
        "\n",
        "    def __call__(self, x, y, norm):\n",
        "        x = self.generator(x)\n",
        "        loss = self.criterion(x.contiguous().view(-1, x.size(-1)),\n",
        "                              y.contiguous().view(-1))\n",
        "        loss = loss / norm\n",
        "\n",
        "        if self.opt is not None:  # training mode\n",
        "            loss.backward()\n",
        "            self.opt.step()\n",
        "            self.opt.zero_grad()\n",
        "\n",
        "        return loss.data.item() * norm\n",
        "\n",
        "\n",
        "def run_epoch(data_loader, model, loss_compute, task, print_every):\n",
        "    \"\"\"Standard Training and Logging Function\"\"\"\n",
        "\n",
        "    total_tokens = 0\n",
        "    total_loss = 0\n",
        "\n",
        "    for i, (src_ids_BxT, src_lengths_B, trg_ids_BxL, trg_lengths_B) in enumerate(data_loader):\n",
        "        # We define some notations here to help you understand the loaded tensor\n",
        "        # shapes:\n",
        "        #   `B`: batch size\n",
        "        #   `T`: max sequence length of source sentences\n",
        "        #   `L`: max sequence length of target sentences; due to our preprocessing\n",
        "        #        in the beginning, `L` == `T` == 50\n",
        "        # An example of `src_ids_BxT` (when B = 2):\n",
        "        #   [[2, 4, 6, 7, ..., 4, 3, 0, 0, 0],\n",
        "        #    [2, 8, 6, 5, ..., 9, 5, 4, 3, 0]]\n",
        "        # The corresponding `src_lengths_B` would be [47, 49].\n",
        "        # Note that SOS_INDEX == 2, EOS_INDEX == 3, and PAD_INDEX = 0.\n",
        "\n",
        "        src_ids_BxT = src_ids_BxT.to(device)\n",
        "        src_lengths_B = src_lengths_B.to(device)\n",
        "        trg_ids_BxL = trg_ids_BxL.to(device)\n",
        "        del trg_lengths_B   # unused\n",
        "\n",
        "        if task == \"seq2seq\":\n",
        "            _, output = model(src_ids_BxT, trg_ids_BxL, src_lengths_B)\n",
        "\n",
        "            loss = loss_compute(x=output, y=trg_ids_BxL[:, 1:],\n",
        "                                norm=src_ids_BxT.size(0))\n",
        "            total_loss += loss\n",
        "            total_tokens += (trg_ids_BxL[:, 1:] != PAD_INDEX).data.sum().item()\n",
        "        elif task == \"lm\":\n",
        "            output = model(src_ids_BxT)\n",
        "\n",
        "            loss = loss_compute(x=output, y=trg_ids_BxL,\n",
        "                                norm=src_ids_BxT.size(0))\n",
        "            total_loss += loss\n",
        "            total_tokens += (trg_ids_BxL != PAD_INDEX).data.sum().item()\n",
        "        else:\n",
        "            raise ValueError(\"unknown task\")\n",
        "\n",
        "        if model.training and i % print_every == 0:\n",
        "            print(\"Epoch Step: %d Loss: %f\" % (i, loss / src_ids_BxT.size(0)))\n",
        "\n",
        "    return math.exp(total_loss / float(total_tokens))\n",
        "\n",
        "\n",
        "def train(model, num_epochs, learning_rate, train_data_loader, val_data_loader, task, print_every):\n",
        "    # Set `ignore_index` as PAD_INDEX so that pad tokens won't be included when\n",
        "    # computing the loss.\n",
        "    criterion = nn.NLLLoss(reduction=\"sum\", ignore_index=PAD_INDEX)\n",
        "    optim = torch.optim.Adam(model.parameters(), lr=learning_rate)\n",
        "\n",
        "    # Keep track of dev perplexity for each epoch.\n",
        "    dev_ppls = []\n",
        "\n",
        "    for epoch in range(1, 1+num_epochs):\n",
        "        print(\"Epoch\", epoch)\n",
        "\n",
        "        model.train()\n",
        "        train_ppl = run_epoch(data_loader=train_data_loader, model=model,\n",
        "                              loss_compute=SimpleLossCompute(model.generator,\n",
        "                                                             criterion, optim),\n",
        "                              task=task,\n",
        "                              print_every=print_every)\n",
        "\n",
        "        model.eval()\n",
        "        with torch.no_grad():\n",
        "            dev_ppl = run_epoch(data_loader=val_data_loader, model=model,\n",
        "                                loss_compute=SimpleLossCompute(model.generator,\n",
        "                                                               criterion, None),\n",
        "                                task=task,\n",
        "                                print_every=print_every)\n",
        "            print(\"Validation perplexity: %f\" % dev_ppl)\n",
        "            dev_ppls.append(dev_ppl)\n",
        "\n",
        "    return dev_ppls\n"
      ]
    },
    {
      "cell_type": "markdown",
      "metadata": {
        "id": "mK6HQOWqnPEA"
      },
      "source": [
        "We provide a function for visualizing your models' learning curves."
      ]
    },
    {
      "cell_type": "code",
      "execution_count": 11,
      "metadata": {
        "id": "s-yM1kPhG4K3"
      },
      "outputs": [],
      "source": [
        "def plot_perplexity(perplexities):\n",
        "    \"\"\"plot perplexities\"\"\"\n",
        "    plt.title(\"Perplexity per Epoch\")\n",
        "    plt.xlabel(\"Epoch\")\n",
        "    plt.ylabel(\"Perplexity\")\n",
        "    plt.plot(perplexities)\n"
      ]
    },
    {
      "cell_type": "markdown",
      "metadata": {
        "id": "kc9p7SGJndhk"
      },
      "source": [
        "This function takes a hidden state, performs a linear transformation on it, and finally takes a log softmax. Note the usage of this class within the above training functions."
      ]
    },
    {
      "cell_type": "code",
      "execution_count": 12,
      "metadata": {
        "id": "flIf9QdoZL8S"
      },
      "outputs": [],
      "source": [
        "class Generator(nn.Module):\n",
        "    \"\"\"Define standard linear + softmax generation step.\"\"\"\n",
        "\n",
        "    def __init__(self, hidden_size, vocab_size):\n",
        "        super(Generator, self).__init__()\n",
        "        self.proj = nn.Linear(hidden_size, vocab_size, bias=False)\n",
        "\n",
        "    def forward(self, x):\n",
        "        return F.log_softmax(self.proj(x), dim=-1)\n"
      ]
    },
    {
      "cell_type": "markdown",
      "metadata": {
        "id": "60rKlVC6qqV0"
      },
      "source": [
        "Here we define decoding functions for performing inference with our Encoder-Decoder model."
      ]
    },
    {
      "cell_type": "code",
      "execution_count": 13,
      "metadata": {
        "id": "89mr8sGhqo0w"
      },
      "outputs": [],
      "source": [
        "def greedy_decode(model, src_ids, src_lengths, max_len):\n",
        "    \"\"\"Greedily decode a sentence for EncoderDecoder.\"\"\"\n",
        "\n",
        "    with torch.no_grad():\n",
        "        encoder_hiddens, encoder_finals = model.encode(src_ids, src_lengths)\n",
        "        prev_y = torch.ones(1, 1).fill_(SOS_INDEX).type_as(src_ids)\n",
        "\n",
        "    output = []\n",
        "    hidden = None\n",
        "\n",
        "    for i in range(max_len):\n",
        "        with torch.no_grad():\n",
        "            hidden, outputs = model.decode(\n",
        "                encoder_finals, prev_y, encoder_hiddens, hidden)\n",
        "            prob = model.generator(outputs[:, -1])\n",
        "\n",
        "        _, next_word = torch.max(prob, dim=1)\n",
        "        next_word = next_word.data.item()\n",
        "        output.append(next_word)\n",
        "        prev_y = torch.ones(1, 1).type_as(src_ids).fill_(next_word)\n",
        "\n",
        "    output = np.array(output)\n",
        "\n",
        "    # Cut off everything starting from </s>.\n",
        "    first_eos = np.where(output == EOS_INDEX)[0]\n",
        "    if len(first_eos) > 0:\n",
        "        output = output[:first_eos[0]]\n",
        "    return output\n",
        "\n",
        "\n",
        "def lookup_words(x, vocab):\n",
        "    return [vocab[i] for i in x]\n"
      ]
    },
    {
      "cell_type": "markdown",
      "metadata": {
        "id": "uGOLfO-WrI1_"
      },
      "source": [
        "You will use this function to visualize some examples once you have trained your translation model."
      ]
    },
    {
      "cell_type": "code",
      "execution_count": 14,
      "metadata": {
        "id": "NKrsGqQgrKU3"
      },
      "outputs": [],
      "source": [
        "def print_examples(model, data_loader, n=3,\n",
        "                   max_len=MAX_SENT_LENGTH_PLUS_SOS_EOS,\n",
        "                   src_vocab_set=src_vocab_set, trg_vocab_set=trg_vocab_set):\n",
        "    \"\"\"Prints `n` examples. Assumes batch size of 1.\"\"\"\n",
        "\n",
        "    model.eval()\n",
        "\n",
        "    for i, (src_ids, src_lengths, trg_ids, _) in enumerate(data_loader):\n",
        "        if isinstance(model, EncoderDecoder):\n",
        "            result = greedy_decode(model, src_ids.to(device), src_lengths.to(device),\n",
        "                                   max_len=max_len)\n",
        "        else:\n",
        "            raise NotImplementedError(\"Unknown model type.\")\n",
        "\n",
        "        # remove <s>\n",
        "        src_ids = src_ids[0, 1:]\n",
        "        trg_ids = trg_ids[0, 1:]\n",
        "        # remove </s> and <pad>\n",
        "        src_ids = src_ids[:np.where(src_ids == EOS_INDEX)[0][0]]\n",
        "        trg_ids = trg_ids[:np.where(trg_ids == EOS_INDEX)[0][0]]\n",
        "\n",
        "        print(\"Example #%d\" % (i + 1))\n",
        "        print(\"Src : \", \" \".join(lookup_words(src_ids, vocab=src_vocab_set)))\n",
        "        print(\"Trg : \", \" \".join(lookup_words(trg_ids, vocab=trg_vocab_set)))\n",
        "        print(\"Pred: \", \" \".join(lookup_words(result, vocab=trg_vocab_set)))\n",
        "        print()\n",
        "\n",
        "        if i == n - 1:\n",
        "            break\n"
      ]
    },
    {
      "cell_type": "markdown",
      "metadata": {
        "id": "GXQFpduzr3ay"
      },
      "source": [
        "The following function will allow you to evaluate your translation model's BLEU score on a test dataset."
      ]
    },
    {
      "cell_type": "code",
      "execution_count": 15,
      "metadata": {
        "id": "jegcU9-ur1jK"
      },
      "outputs": [],
      "source": [
        "import sacrebleu\n",
        "from tqdm import tqdm\n",
        "\n",
        "\n",
        "def compute_BLEU(model, data_loader):\n",
        "    bleu_score = []\n",
        "\n",
        "    model.eval()\n",
        "    for src_ids, src_lengths, trg_ids, _ in tqdm(data_loader):\n",
        "        if isinstance(model, EncoderDecoder):\n",
        "            result = greedy_decode(model, src_ids.to(device), src_lengths.to(device),\n",
        "                                   max_len=MAX_SENT_LENGTH_PLUS_SOS_EOS)\n",
        "        else:\n",
        "            raise NotImplementedError(\"Unknown model type.\")\n",
        "\n",
        "        # remove <s>\n",
        "        src_ids = src_ids[0, 1:]\n",
        "        trg_ids = trg_ids[0, 1:]\n",
        "        # remove </s> and <pad>\n",
        "        src_ids = src_ids[:np.where(src_ids == EOS_INDEX)[0][0]]\n",
        "        trg_ids = trg_ids[:np.where(trg_ids == EOS_INDEX)[0][0]]\n",
        "\n",
        "        pred = \" \".join(lookup_words(result, vocab=trg_vocab_set))\n",
        "        targ = \" \".join(lookup_words(trg_ids, vocab=trg_vocab_set))\n",
        "\n",
        "        bleu_score.append(sacrebleu.raw_corpus_bleu(\n",
        "            [pred], [[targ]], .01).score)\n",
        "\n",
        "    return bleu_score\n"
      ]
    },
    {
      "cell_type": "markdown",
      "metadata": {
        "id": "75Xar0RA0HCZ"
      },
      "source": [
        "# **Part 2: Recurrent Neural Network (RNN)**\n",
        "\n",
        "In this part, you will implement a vanilla RNN language model. You are not allowed to use the PyTorch built-in RNN module (or the corresponding LSTM and GRU modules), but you may use the RNNCell (https://pytorch.org/docs/stable/generated/torch.nn.RNNCell.html) module (or the LSTMCell/GRUCell modules)."
      ]
    },
    {
      "cell_type": "code",
      "execution_count": 16,
      "metadata": {
        "id": "GOy71ueb0I0G"
      },
      "outputs": [],
      "source": [
        "class RNN(nn.Module):\n",
        "\n",
        "    def __init__(self, input_size, hidden_size, src_embed, generator):\n",
        "        \"\"\"\n",
        "        Inputs:\n",
        "          - `input_size`: a positive integer corresponding to the size of the\n",
        "              word embeddings\n",
        "          - `hidden_size`: a positive integer representing the dimensionality of\n",
        "              the RNN's hidden state vector\n",
        "          - `src_embed`: an nn.Embedding object representing the lookup table for\n",
        "              input (source) sentences\n",
        "          - `generator`: a `Generator` object. Essentially a linear mapping\n",
        "              followed by a softmax. You should not call it within this class; it\n",
        "              is called in the SimpleLossCompute class above\n",
        "        \"\"\"\n",
        "        super(RNN, self).__init__()\n",
        "        # `input_size`, `hidden_size`, and `output_size` are all int.\n",
        "\n",
        "        self.hidden_size = hidden_size\n",
        "        self.src_embed = src_embed\n",
        "        self.generator = generator\n",
        "        # hint: unless you choose to implement the RNN update equations yourself\n",
        "        #       you will want a `self.rnn` module that does that for you, which\n",
        "        #       is where the RNNCell/LSTMCell/GRUCell modules come in handy\n",
        "\n",
        "        ### Your code here! ###\n",
        "        self.lstm = nn.LSTMCell(input_size=input_size, hidden_size=hidden_size)\n",
        "        ###\n",
        "\n",
        "    def init_hidden(self, batch_size):\n",
        "        \"\"\"\n",
        "        Input:\n",
        "          - `batch_size`: a positive integer\n",
        "\n",
        "        Returns:\n",
        "          - `hidden`: a 2d-tensor of shape (batch_size, hidden_size) representing\n",
        "              the initial hidden state of the RNN\n",
        "        \"\"\"\n",
        "        # Use to initialize hidden state everytime before running a sentence.\n",
        "        hidden = torch.zeros(batch_size, self.hidden_size).to(device)\n",
        "        return hidden\n",
        "\n",
        "    def forward(self, input_ids):\n",
        "        \"\"\"\n",
        "        Given a sequence of words (represented as IDs), compute and return the\n",
        "        hidden state at each timestep (equivalently, for each input word).\n",
        "        Input:\n",
        "          - `input_ids`: a 2d-tensor of shape\n",
        "             (batch_size, MAX_SENT_LENGTH_PLUS_SOS_EOS) representing a batch of\n",
        "             sentences from the dataset (with IDs instead of words)\n",
        "\n",
        "        Returns:\n",
        "          - `hiddens`: a 3d-tensor of shape\n",
        "              (batch_size, MAX_SENT_LENGTH_PLUS_SOS_EOS, hidden_size) representing\n",
        "              the hidden state of the model at each timestep\n",
        "        \"\"\"\n",
        "        # hint: pay close attention to the shapes of your tensors; you may find\n",
        "        #       pytorch's `permute()` method for tensors useful\n",
        "\n",
        "        ### Your code here! ###\n",
        "        batch_size, max_length = input_ids.shape\n",
        "        inputs_embed = self.src_embed(input_ids) # (batch_size, max_length, hidden_size)\n",
        "        inputs_embed = torch.permute(inputs_embed, (1, 0, 2))\n",
        "\n",
        "        hx = self.init_hidden(batch_size).to(device)  # (batch_size, hidden_size)\n",
        "        cx = self.init_hidden(batch_size).to(device)  # (batch_size, hidden_size)\n",
        "        hiddens = []\n",
        "        for i in inputs_embed:\n",
        "            hx, cx = self.lstm(i, (hx, cx))\n",
        "            hiddens.append(hx)\n",
        "        hiddens = torch.stack(hiddens)\n",
        "        hiddens = torch.permute(hiddens, (1, 0, 2))\n",
        "        ###\n",
        "\n",
        "        return hiddens\n"
      ]
    },
    {
      "cell_type": "markdown",
      "metadata": {
        "id": "XRB8Re7eoMZF"
      },
      "source": [
        "Once you have implemented your model, run this cell to train and evaluate it. Note that the hyperparameters chosen here (including `learning_rate`) are not necessarily optimal—you may want to adjust them to improve performance. A simple one-layer implementation of a vanilla RNN should yield a perplexity in the 70s or 80s, but you can do better by adding layers, implementing a GRU/LSTM, and/or optimizing hyperparameters.\n",
        "\n",
        "NOTE THAT IT MIGHT TAKE A WHILE (13 MINS) TO TRAIN FOR 10 EPOCHS (plan accordingly). "
      ]
    },
    {
      "cell_type": "code",
      "execution_count": 17,
      "metadata": {
        "id": "-FSlqG1tVsiJ"
      },
      "outputs": [
        {
          "name": "stdout",
          "output_type": "stream",
          "text": [
            "Epoch 1\n",
            "Epoch Step: 0 Loss: 177.950455\n",
            "Epoch Step: 100 Loss: 102.731422\n",
            "Epoch Step: 200 Loss: 91.158371\n",
            "Epoch Step: 300 Loss: 90.025574\n",
            "Epoch Step: 400 Loss: 84.725777\n",
            "Epoch Step: 500 Loss: 88.754013\n",
            "Epoch Step: 600 Loss: 78.793274\n",
            "Epoch Step: 700 Loss: 81.337242\n",
            "Epoch Step: 800 Loss: 92.325653\n",
            "Validation perplexity: 108.965036\n",
            "Epoch 2\n",
            "Epoch Step: 0 Loss: 84.346191\n",
            "Epoch Step: 100 Loss: 78.236000\n",
            "Epoch Step: 200 Loss: 78.417595\n",
            "Epoch Step: 300 Loss: 80.983109\n",
            "Epoch Step: 400 Loss: 81.712090\n",
            "Epoch Step: 500 Loss: 80.128029\n",
            "Epoch Step: 600 Loss: 83.543282\n",
            "Epoch Step: 700 Loss: 77.890350\n",
            "Epoch Step: 800 Loss: 78.061096\n",
            "Validation perplexity: 90.103362\n",
            "Epoch 3\n",
            "Epoch Step: 0 Loss: 81.626938\n",
            "Epoch Step: 100 Loss: 83.430351\n",
            "Epoch Step: 200 Loss: 74.286392\n",
            "Epoch Step: 300 Loss: 81.782913\n",
            "Epoch Step: 400 Loss: 80.379715\n",
            "Epoch Step: 500 Loss: 72.278511\n",
            "Epoch Step: 600 Loss: 70.919479\n",
            "Epoch Step: 700 Loss: 80.240227\n",
            "Epoch Step: 800 Loss: 69.879402\n",
            "Validation perplexity: 82.848382\n",
            "Epoch 4\n",
            "Epoch Step: 0 Loss: 73.603691\n",
            "Epoch Step: 100 Loss: 74.234299\n",
            "Epoch Step: 200 Loss: 74.448944\n",
            "Epoch Step: 300 Loss: 75.709915\n",
            "Epoch Step: 400 Loss: 68.366875\n",
            "Epoch Step: 500 Loss: 74.298485\n",
            "Epoch Step: 600 Loss: 76.531967\n",
            "Epoch Step: 700 Loss: 74.576218\n",
            "Epoch Step: 800 Loss: 73.894592\n",
            "Validation perplexity: 79.463213\n",
            "Epoch 5\n",
            "Epoch Step: 0 Loss: 71.949112\n",
            "Epoch Step: 100 Loss: 71.340424\n",
            "Epoch Step: 200 Loss: 75.992569\n",
            "Epoch Step: 300 Loss: 70.308571\n",
            "Epoch Step: 400 Loss: 69.862579\n",
            "Epoch Step: 500 Loss: 76.298195\n",
            "Epoch Step: 600 Loss: 71.614792\n",
            "Epoch Step: 700 Loss: 71.532181\n",
            "Epoch Step: 800 Loss: 75.207390\n",
            "Validation perplexity: 77.776974\n",
            "Epoch 6\n",
            "Epoch Step: 0 Loss: 68.856094\n",
            "Epoch Step: 100 Loss: 67.888367\n",
            "Epoch Step: 200 Loss: 68.821648\n",
            "Epoch Step: 300 Loss: 73.801888\n",
            "Epoch Step: 400 Loss: 77.070084\n",
            "Epoch Step: 500 Loss: 68.776108\n",
            "Epoch Step: 600 Loss: 75.176086\n",
            "Epoch Step: 700 Loss: 68.708832\n",
            "Epoch Step: 800 Loss: 69.489403\n",
            "Validation perplexity: 77.659636\n",
            "Epoch 7\n",
            "Epoch Step: 0 Loss: 67.606537\n",
            "Epoch Step: 100 Loss: 74.582161\n",
            "Epoch Step: 200 Loss: 69.737381\n",
            "Epoch Step: 300 Loss: 68.701263\n",
            "Epoch Step: 400 Loss: 72.657288\n",
            "Epoch Step: 500 Loss: 66.695648\n",
            "Epoch Step: 600 Loss: 64.368385\n",
            "Epoch Step: 700 Loss: 80.035294\n",
            "Epoch Step: 800 Loss: 70.341599\n",
            "Validation perplexity: 77.980812\n",
            "Epoch 8\n",
            "Epoch Step: 0 Loss: 63.022961\n",
            "Epoch Step: 100 Loss: 68.296036\n",
            "Epoch Step: 200 Loss: 64.141365\n",
            "Epoch Step: 300 Loss: 69.466988\n",
            "Epoch Step: 400 Loss: 66.751312\n",
            "Epoch Step: 500 Loss: 71.292191\n",
            "Epoch Step: 600 Loss: 64.441864\n",
            "Epoch Step: 700 Loss: 71.157349\n",
            "Epoch Step: 800 Loss: 71.915939\n",
            "Validation perplexity: 79.066467\n",
            "Epoch 9\n",
            "Epoch Step: 0 Loss: 70.866585\n",
            "Epoch Step: 100 Loss: 64.578758\n",
            "Epoch Step: 200 Loss: 65.181999\n",
            "Epoch Step: 300 Loss: 64.265907\n",
            "Epoch Step: 400 Loss: 68.725380\n",
            "Epoch Step: 500 Loss: 70.361938\n",
            "Epoch Step: 600 Loss: 69.584503\n",
            "Epoch Step: 700 Loss: 60.278740\n",
            "Epoch Step: 800 Loss: 66.296257\n",
            "Validation perplexity: 80.324327\n",
            "Epoch 10\n",
            "Epoch Step: 0 Loss: 62.903202\n",
            "Epoch Step: 100 Loss: 67.415932\n",
            "Epoch Step: 200 Loss: 63.492558\n",
            "Epoch Step: 300 Loss: 62.890221\n",
            "Epoch Step: 400 Loss: 68.806549\n",
            "Epoch Step: 500 Loss: 71.482292\n",
            "Epoch Step: 600 Loss: 64.892166\n",
            "Epoch Step: 700 Loss: 69.431870\n",
            "Epoch Step: 800 Loss: 72.589005\n",
            "Validation perplexity: 82.202267\n"
          ]
        },
        {
          "data": {
            "image/png": "[encoded data removed]",
            "text/plain": [
              "<Figure size 640x480 with 1 Axes>"
            ]
          },
          "metadata": {},
          "output_type": "display_data"
        }
      ],
      "source": [
        "# Each word will be represented as a `embed_size`-dim vector.\n",
        "embed_size = 256\n",
        "hidden_size = 256\n",
        "\n",
        "# model itself\n",
        "rnn_lm = RNN(input_size=embed_size,\n",
        "             hidden_size=hidden_size,\n",
        "             src_embed=nn.Embedding(len(trg_vocab_set), embed_size),\n",
        "             generator=Generator(hidden_size, len(trg_vocab_set))).to(device)\n",
        "\n",
        "# list of epoch perplexities from training\n",
        "lm_dev_ppls = train(rnn_lm, num_epochs=10,\n",
        "                    learning_rate=1e-3,\n",
        "                    train_data_loader=lm_train_data_loader,\n",
        "                    val_data_loader=lm_val_data_loader,\n",
        "                    task=\"lm\", print_every=100)\n",
        "\n",
        "plot_perplexity(lm_dev_ppls)\n"
      ]
    },
    {
      "cell_type": "markdown",
      "metadata": {
        "id": "5fOArV2r9Piz"
      },
      "source": [
        "# **Part 3: Seq2Seq Model**\n",
        "\n"
      ]
    },
    {
      "cell_type": "markdown",
      "metadata": {
        "id": "mA9JfWiK9eoL"
      },
      "source": [
        "In this part of the lab, you will explore seq2seq to perform a machine translation task. The main task is to implement the naive encoder-decoder architecture without attention.\n",
        "\n",
        "In machine translation (MT), your goal is to translate the correct sentence meaning into another language. In our case, we want to translate Vietnamese sentences into English sentences. See the diagram below for an illustration of how the translation process works with an encoder-decoder architecture.\n",
        "\n",
        "Note that this default Encoder-Decoder sequence-to-sequence model that you will implement is not at all good enough to function as a realistic machine translation system.\n",
        "For those interested, feel free to experiment with the model to try to improve it! \n",
        "\n",
        "Some possible suggestions include:\n",
        "- Playing around with basic hyperparameters (model size, dropout, learning rate, etc.)\n",
        "- Experimenting with different RNN Cells (GRU/LSTM)\n",
        "- Exploring attention-based models (quite difficult)\n",
        "- Using beam search instead of greedy search (moderately difficult)\n",
        "\n",
        "Feel free to alter the signatures / write helper functions for the below classes.\n",
        "\n",
        "![picture](https://drive.google.com/uc?id=1VQMgKh6AdxcJZiw7qO7cE_MHyiAAu62b)"
      ]
    },
    {
      "cell_type": "markdown",
      "metadata": {
        "id": "kb5gQEp7oVdi"
      },
      "source": [
        "## Encoder\n",
        "\n",
        "We will start with a single-layer unidirectional GRU. You are free to try bidirectional and stack more layers. Note that we are now including *dropout* in our model. Dropout is essentially a regularization technique in which a specified proportion of the model parameters are randomly ignored during a given forward and backward pass of the model. If you want a more detailed explanation, see [this paper](https://arxiv.org/abs/1409.2329) which discusses dropout in the context of RNNs."
      ]
    },
    {
      "cell_type": "code",
      "execution_count": 18,
      "metadata": {
        "id": "dnwVGDVkoPt0"
      },
      "outputs": [],
      "source": [
        "from torch.nn.utils.rnn import pack_padded_sequence, pad_packed_sequence\n",
        "\n",
        "\n",
        "class Encoder(nn.Module):\n",
        "    def __init__(self, input_size, hidden_size, dropout=0.):\n",
        "        \"\"\"\n",
        "        Inputs: \n",
        "          - `input_size`: an int representing the RNN input size.\n",
        "          - `hidden_size`: an int representing the RNN hidden size.\n",
        "          - `dropout`: a float representing the dropout rate during training. Note\n",
        "              that for 1-layer RNN this has no effect since dropout only applies to\n",
        "              outputs of intermediate layers.\n",
        "        \"\"\"\n",
        "        super(Encoder, self).__init__()\n",
        "        self.rnn = nn.GRU(input_size, hidden_size, num_layers=1, batch_first=True,\n",
        "                          dropout=dropout, bidirectional=False)\n",
        "\n",
        "    def forward(self, inputs, lengths):\n",
        "        \"\"\"\n",
        "        Inputs:\n",
        "          - `inputs`: a 3d-tensor of shape (batch_size, max_seq_length, embed_size)\n",
        "              representing a batch of padded embedded word vectors of source\n",
        "              sentences.\n",
        "          - `lengths`: a 1d-tensor of shape (batch_size,) representing the sequence\n",
        "              lengths of `inputs`.\n",
        "\n",
        "        Returns:\n",
        "          - `outputs`: a 3d-tensor of shape\n",
        "            (batch_size, max_seq_length, hidden_size).\n",
        "          - `finals`: a 3d-tensor of shape (num_layers, batch_size, hidden_size).\n",
        "          Hint: `outputs` and `finals` are both standard GRU outputs. Check:\n",
        "          https://pytorch.org/docs/stable/nn.html#gru\n",
        "        \"\"\"\n",
        "        # Our variable-length inputs are padded to the same length for batching\n",
        "        # Here we \"pack\" them for computational efficiency (see note below)\n",
        "        packed = pack_padded_sequence(inputs, lengths.cpu(), batch_first=True,\n",
        "                                      enforce_sorted=False)\n",
        "        outputs, finals = self.rnn(packed)\n",
        "        outputs, _ = pad_packed_sequence(outputs, batch_first=True,\n",
        "                                         total_length=MAX_SENT_LENGTH_PLUS_SOS_EOS)\n",
        "        return outputs, finals\n"
      ]
    },
    {
      "cell_type": "markdown",
      "metadata": {
        "id": "Hxs73iWLLXOx"
      },
      "source": [
        "Note: For a clear explanation of padding and packing, see the second answer to this [stackoverflow question](https://stackoverflow.com/questions/51030782/why-do-we-pack-the-sequences-in-pytorch)."
      ]
    },
    {
      "cell_type": "markdown",
      "metadata": {
        "id": "lWFWtxhbpSl-"
      },
      "source": [
        "## Decoder\n",
        "\n",
        "The decoder is a conditional GRU. Rather than starting with an empty state like the encoder, its initial hidden state results from a projection of the encoder final vector. "
      ]
    },
    {
      "cell_type": "code",
      "execution_count": 19,
      "metadata": {
        "id": "JYT0BlfYUJXj"
      },
      "outputs": [],
      "source": [
        "class Decoder(nn.Module):\n",
        "    \"\"\"An RNN decoder. Optionally add attention using the scaffolding function. \"\"\"\n",
        "\n",
        "    def __init__(self, input_size, hidden_size, dropout=0.):\n",
        "        \"\"\"\n",
        "          Inputs:\n",
        "            - `input_size`, `hidden_size`, and `dropout` the same as in Encoder.\n",
        "        \"\"\"\n",
        "        super(Decoder, self).__init__()\n",
        "\n",
        "        # hint 1: while the encoder just needed a single RNN layer, more will be\n",
        "        #         required for the decoder.\n",
        "        # hint 2: think about what you'll need in init_hidden(self, encoder_finals)\n",
        "        # hint 3: what will you use to compute the pre_output (see docstring of\n",
        "        #         forward function)?\n",
        "\n",
        "        ### Your code here! ###\n",
        "        self.rnn = nn.GRU(input_size, hidden_size, num_layers=1, batch_first=True,\n",
        "                          dropout=dropout, bidirectional=True)\n",
        "        ###\n",
        "\n",
        "    def forward_step(self, prev_embed, hidden):\n",
        "        \"\"\"Helper function for forward below:\n",
        "           Perform a single decoder step (1 word).\n",
        "\n",
        "           Inputs:\n",
        "          - `prev_embed`: a 3d-tensor of shape (batch_size, 1, embed_size)\n",
        "              representing the padded embedded word vectors at this step in training\n",
        "          - `hidden`: a 3d-tensor of shape (1, batch_size, hidden_size) representing\n",
        "              the current hidden state.\n",
        "\n",
        "          Returns:\n",
        "          - `hidden`: a 3d-tensor of shape (1, batch_size, hidden_size)\n",
        "              representing the current decoder hidden state.\n",
        "          - `pre_output`: a 3d-tensor of shape (batch_size, 1, hidden_size)\n",
        "              representing the total decoder output for one step\n",
        "        \"\"\"\n",
        "        # hint: you'll want to do more here than just run self.rnn (think about\n",
        "        #       what you should do to the output of the self.rnn in order to\n",
        "        #       compute the `pre_output`)\n",
        "\n",
        "        ### Your code here! ###\n",
        "        pre_output, hidden = self.rnn(prev_embed, hidden)\n",
        "        ###\n",
        "\n",
        "        return hidden, pre_output\n",
        "\n",
        "    def forward(self, inputs, encoder_finals, encoder_hiddens, hidden=None, max_len=None):\n",
        "        \"\"\"Unroll the decoder one step at a time.\n",
        "\n",
        "        Inputs:\n",
        "          - `inputs`: a 3d-tensor of shape (batch_size, max_seq_length, embed_size)\n",
        "              representing a batch of padded embedded word vectors of target\n",
        "              sentences (for teacher-forcing during training). (during evaluation, \n",
        "              we instead have the model's previously-predicted best word).\n",
        "          - `encoder_finals`: a 3d-tensor of shape\n",
        "              (num_enc_layers, batch_size, hidden_size) representing the final\n",
        "              encoder hidden states used to initialize the initial decoder hidden\n",
        "              states.\n",
        "          - `encoder_hiddens` (only needed for attention): a 3d-tensor of shape \n",
        "              (batch_size, max_seq_length, hidden_size) representing the hidden state\n",
        "              at each point in the encoder sequence. \n",
        "          - `hidden`: a 3d-tensor of shape (1, batch_size, hidden_size) representing\n",
        "              the value to be used to initialize the initial decoder hidden states.\n",
        "              If None, then use `encoder_finals`.\n",
        "          - `max_len`: an int representing the maximum decoding length.\n",
        "\n",
        "        Returns:\n",
        "          - `hidden`: a 3d-tensor of shape\n",
        "              (num_layers, batch_size, hidden_size) representing the final hidden\n",
        "              state for each element in the batch.\n",
        "          - `pre_output_vectors`: a 3d-tensor of shape\n",
        "              (batch_size, max_len, hidden_size) representing the raw decoder\n",
        "              outputs (before mapping to a `trg_vocab_size`-dim vector).\n",
        "        \"\"\"\n",
        "\n",
        "        # The maximum number of steps to unroll the RNN.\n",
        "        if max_len is None:\n",
        "            max_len = inputs.size(1)\n",
        "\n",
        "        # Initialize decoder hidden state.\n",
        "        if hidden is None:\n",
        "            hidden = self.init_hidden(encoder_finals)\n",
        "\n",
        "        # hint: you'll want to keep track of the `pre_output` for each timestep,\n",
        "        #       but you only need the final `hidden` state\n",
        "\n",
        "        ### Your code here! ###\n",
        "        pre_output_vectors = []\n",
        "        for i in range(inputs.shape[1]):\n",
        "            hidden, pre_output = self.forward_step(inputs[:, i:i+1, :], hidden)\n",
        "            pre_output_vectors.append(pre_output)\n",
        "        pre_output_vectors = torch.cat(pre_output_vectors, dim=1)\n",
        "        ###\n",
        "\n",
        "        return hidden, pre_output_vectors\n",
        "\n",
        "    def init_hidden(self, encoder_finals):\n",
        "        \"\"\"Use encoder final hidden state to initialize decoder's first hidden\n",
        "           state.\n",
        "\n",
        "           Input: `encoder_finals` is same as in forward()\n",
        "\n",
        "           Returns: \n",
        "             - `decoder_init_hiddens`: a 3d-tensor of shape \n",
        "                  (num_layers, batch_size, hidden_size) representing the initial\n",
        "                  hidden state of the decoder for each element in the batch \n",
        "        \"\"\"\n",
        "        # hint: think about whether or not an activation function is needed here\n",
        "\n",
        "        ### Your code here! ###\n",
        "        decoder_init_hiddens = torch.cat((encoder_finals, encoder_finals), dim=0)\n",
        "\n",
        "        ###\n",
        "        return decoder_init_hiddens\n",
        "\n",
        "    def attention(self, hidden, encoder_hiddens):\n",
        "        \"\"\"Compute the context vector at the current step. (optional)\n",
        "\n",
        "        Inputs:\n",
        "          - `hidden`: a 3d-tensor of shape (1, batch_size, hidden_size)\n",
        "              representing the current decoder hidden state.\n",
        "          - `encoder_hiddens`: a 3d-tensor of shape \n",
        "              (batch_size, max_seq_length, hidden_size) representing the hidden state\n",
        "              at each point in the encoder sequence. \n",
        "\n",
        "        Returns:\n",
        "          - `context`: a 3d-tensor of shape (batch_size, 1, hidden_size) representing\n",
        "              the context vector attained from attending the decoder hidden state to \n",
        "              the encoder states.     \n",
        "\n",
        "        Note: You might find torch.permute() helpful to get your tensors in the\n",
        "              right shape.\n",
        "        \"\"\"\n",
        "        ### Your code here! ###\n",
        "\n",
        "        ###\n",
        "        pass\n"
      ]
    },
    {
      "cell_type": "markdown",
      "metadata": {
        "id": "AH0VdHE2_x1k"
      },
      "source": [
        "## Encoder-Decoder\n",
        "\n",
        "Here we define the high level encoder-decoder class to wrap up sub-models, including encoder, decoder, generator, and src/trg embeddings. There are solutions in which you do not need to write any code for this module, but your implementation of the above moudles might require some code to be written."
      ]
    },
    {
      "cell_type": "code",
      "execution_count": 20,
      "metadata": {
        "id": "nNBaAYB_oHxG"
      },
      "outputs": [],
      "source": [
        "class EncoderDecoder(nn.Module):\n",
        "    \"\"\"A standard Encoder-Decoder architecture without attention.\n",
        "    \"\"\"\n",
        "\n",
        "    def __init__(self, encoder, decoder, src_embed, trg_embed, generator):\n",
        "        \"\"\"\n",
        "        Inputs:\n",
        "          - `encoder`: an `Encoder` object.\n",
        "          - `decoder`: an `Decoder` object.\n",
        "          - `src_embed`: an nn.Embedding object representing the lookup table for\n",
        "              input (source) sentences.\n",
        "          - `trg_embed`: an nn.Embedding object representing the lookup table for\n",
        "              output (target) sentences.\n",
        "          - `generator`: a `Generator` object. Essentially a linear mapping. See\n",
        "              the next code cell.\n",
        "        \"\"\"\n",
        "        super(EncoderDecoder, self).__init__()\n",
        "\n",
        "        self.encoder = encoder\n",
        "        self.decoder = decoder\n",
        "        self.src_embed = src_embed\n",
        "        self.trg_embed = trg_embed\n",
        "        self.generator = generator\n",
        "\n",
        "    def forward(self, src_ids, trg_ids, src_lengths):\n",
        "        \"\"\"Take in and process masked source and target sequences.\n",
        "\n",
        "        Inputs:\n",
        "          `src_ids`: a 2d-tensor of shape (batch_size, max_seq_length) representing\n",
        "            a batch of source sentences of word ids.\n",
        "          `trg_ids`: a 2d-tensor of shape (batch_size, max_seq_length) representing\n",
        "            a batch of target sentences of word ids.\n",
        "          `src_lengths`: a 1d-tensor of shape (batch_size,) representing the\n",
        "            sequence length of `src_ids`.\n",
        "\n",
        "        Returns the decoder outputs, see the above cell.\n",
        "        \"\"\"\n",
        "        encoder_hiddens, encoder_finals = self.encode(src_ids, src_lengths)\n",
        "        return self.decode(encoder_finals, trg_ids[:, :-1], encoder_hiddens)\n",
        "\n",
        "    def encode(self, src_ids, src_lengths):\n",
        "        return self.encoder(self.src_embed(src_ids), src_lengths)\n",
        "\n",
        "    def decode(self, encoder_finals, trg_ids, encoder_hiddens, decoder_hidden=None):\n",
        "        return self.decoder(self.trg_embed(trg_ids), encoder_finals, encoder_hiddens, decoder_hidden)\n"
      ]
    },
    {
      "cell_type": "markdown",
      "metadata": {
        "id": "FAGHeLyGp5bA"
      },
      "source": [
        "Once you have implemented your model, run this cell to train and evaluate your model. Note that the hyperparameters chosen here (including `learning_rate`) are not necessarily optimal—you may want to adjust them to improve performance. A reasonable perplexity here would be in the low- to mid-30s after 10 epochs of training."
      ]
    },
    {
      "cell_type": "code",
      "execution_count": 21,
      "metadata": {
        "id": "j7ueW-ZJp4RD"
      },
      "outputs": [
        {
          "name": "stderr",
          "output_type": "stream",
          "text": [
            "/home/swtian/.virtualenvs/pset/lib/python3.8/site-packages/torch/nn/modules/rnn.py:62: UserWarning: dropout option adds dropout after all but last recurrent layer, so non-zero dropout expects num_layers greater than 1, but got dropout=0.2 and num_layers=1\n",
            "  warnings.warn(\"dropout option adds dropout after all but last \"\n"
          ]
        },
        {
          "name": "stdout",
          "output_type": "stream",
          "text": [
            "Epoch 1\n"
          ]
        },
        {
          "name": "stderr",
          "output_type": "stream",
          "text": [
            "Could not load symbol cublasGetSmCountTarget from libcublas.so.11. Error: /usr/local/cuda-11.3/lib64/libcublas.so.11: undefined symbol: cublasGetSmCountTarget\n"
          ]
        },
        {
          "name": "stdout",
          "output_type": "stream",
          "text": [
            "Epoch Step: 0 Loss: 178.457413\n",
            "Epoch Step: 100 Loss: 100.054924\n",
            "Epoch Step: 200 Loss: 92.377563\n",
            "Epoch Step: 300 Loss: 82.373840\n",
            "Epoch Step: 400 Loss: 84.310783\n",
            "Epoch Step: 500 Loss: 85.545074\n",
            "Epoch Step: 600 Loss: 84.491463\n",
            "Epoch Step: 700 Loss: 81.028595\n",
            "Epoch Step: 800 Loss: 77.643951\n",
            "Validation perplexity: 70.965154\n",
            "Epoch 2\n",
            "Epoch Step: 0 Loss: 71.059090\n",
            "Epoch Step: 100 Loss: 73.384911\n",
            "Epoch Step: 200 Loss: 75.756966\n",
            "Epoch Step: 300 Loss: 72.745193\n",
            "Epoch Step: 400 Loss: 76.575287\n",
            "Epoch Step: 500 Loss: 68.495506\n",
            "Epoch Step: 600 Loss: 70.133148\n",
            "Epoch Step: 700 Loss: 70.343887\n",
            "Epoch Step: 800 Loss: 67.737030\n",
            "Validation perplexity: 52.283309\n",
            "Epoch 3\n",
            "Epoch Step: 0 Loss: 62.365131\n",
            "Epoch Step: 100 Loss: 67.487442\n",
            "Epoch Step: 200 Loss: 67.693115\n",
            "Epoch Step: 300 Loss: 63.385948\n",
            "Epoch Step: 400 Loss: 59.158642\n",
            "Epoch Step: 500 Loss: 67.310005\n",
            "Epoch Step: 600 Loss: 63.061592\n",
            "Epoch Step: 700 Loss: 62.283810\n",
            "Epoch Step: 800 Loss: 62.462387\n",
            "Validation perplexity: 45.347614\n",
            "Epoch 4\n",
            "Epoch Step: 0 Loss: 55.921650\n",
            "Epoch Step: 100 Loss: 60.502823\n",
            "Epoch Step: 200 Loss: 58.514587\n",
            "Epoch Step: 300 Loss: 58.373035\n",
            "Epoch Step: 400 Loss: 65.355797\n",
            "Epoch Step: 500 Loss: 66.918556\n",
            "Epoch Step: 600 Loss: 58.552135\n",
            "Epoch Step: 700 Loss: 61.559605\n",
            "Epoch Step: 800 Loss: 60.229633\n",
            "Validation perplexity: 42.002118\n",
            "Epoch 5\n",
            "Epoch Step: 0 Loss: 54.926826\n",
            "Epoch Step: 100 Loss: 53.427776\n",
            "Epoch Step: 200 Loss: 54.701504\n",
            "Epoch Step: 300 Loss: 57.208508\n",
            "Epoch Step: 400 Loss: 57.280499\n",
            "Epoch Step: 500 Loss: 61.675236\n",
            "Epoch Step: 600 Loss: 57.938786\n",
            "Epoch Step: 700 Loss: 63.033497\n",
            "Epoch Step: 800 Loss: 52.482193\n",
            "Validation perplexity: 40.180938\n",
            "Epoch 6\n",
            "Epoch Step: 0 Loss: 61.771252\n",
            "Epoch Step: 100 Loss: 53.956821\n",
            "Epoch Step: 200 Loss: 54.477398\n",
            "Epoch Step: 300 Loss: 56.103115\n",
            "Epoch Step: 400 Loss: 55.883121\n",
            "Epoch Step: 500 Loss: 54.605507\n",
            "Epoch Step: 600 Loss: 58.387817\n",
            "Epoch Step: 700 Loss: 59.972656\n",
            "Epoch Step: 800 Loss: 57.656883\n",
            "Validation perplexity: 39.504392\n",
            "Epoch 7\n",
            "Epoch Step: 0 Loss: 56.258076\n",
            "Epoch Step: 100 Loss: 51.620983\n",
            "Epoch Step: 200 Loss: 49.835960\n",
            "Epoch Step: 300 Loss: 54.227356\n",
            "Epoch Step: 400 Loss: 56.777027\n",
            "Epoch Step: 500 Loss: 46.795311\n",
            "Epoch Step: 600 Loss: 55.861443\n",
            "Epoch Step: 700 Loss: 48.698219\n",
            "Epoch Step: 800 Loss: 50.453243\n",
            "Validation perplexity: 39.491384\n",
            "Epoch 8\n",
            "Epoch Step: 0 Loss: 47.807728\n",
            "Epoch Step: 100 Loss: 51.222092\n",
            "Epoch Step: 200 Loss: 49.838467\n",
            "Epoch Step: 300 Loss: 55.623344\n",
            "Epoch Step: 400 Loss: 51.967804\n",
            "Epoch Step: 500 Loss: 50.831394\n",
            "Epoch Step: 600 Loss: 53.158005\n",
            "Epoch Step: 700 Loss: 52.427990\n",
            "Epoch Step: 800 Loss: 53.496361\n",
            "Validation perplexity: 39.830547\n",
            "Epoch 9\n",
            "Epoch Step: 0 Loss: 51.008652\n",
            "Epoch Step: 100 Loss: 47.973793\n",
            "Epoch Step: 200 Loss: 54.827705\n",
            "Epoch Step: 300 Loss: 45.072357\n",
            "Epoch Step: 400 Loss: 51.091038\n",
            "Epoch Step: 500 Loss: 50.774155\n",
            "Epoch Step: 600 Loss: 46.542336\n",
            "Epoch Step: 700 Loss: 53.315479\n",
            "Epoch Step: 800 Loss: 58.224297\n",
            "Validation perplexity: 40.371071\n",
            "Epoch 10\n",
            "Epoch Step: 0 Loss: 42.970879\n",
            "Epoch Step: 100 Loss: 45.181484\n",
            "Epoch Step: 200 Loss: 43.053864\n",
            "Epoch Step: 300 Loss: 47.312103\n",
            "Epoch Step: 400 Loss: 52.514584\n",
            "Epoch Step: 500 Loss: 47.590420\n",
            "Epoch Step: 600 Loss: 49.048912\n",
            "Epoch Step: 700 Loss: 50.612072\n",
            "Epoch Step: 800 Loss: 53.067093\n",
            "Validation perplexity: 41.299623\n"
          ]
        },
        {
          "data": {
            "image/png": "[encoded data removed]",
            "text/plain": [
              "<Figure size 640x480 with 1 Axes>"
            ]
          },
          "metadata": {},
          "output_type": "display_data"
        }
      ],
      "source": [
        "# Hyperparameters for contructing the encoder-decoder model.\n",
        "\n",
        "# Each word will be represented as a `embed_size`-dim vector.\n",
        "embed_size = 256\n",
        "hidden_size = 256  # RNN hidden size.\n",
        "dropout = 0.2\n",
        "\n",
        "# model itsef\n",
        "pure_seq2seq = EncoderDecoder(\n",
        "    encoder=Encoder(embed_size, hidden_size, dropout=dropout),\n",
        "    decoder=Decoder(embed_size, hidden_size, dropout=dropout),\n",
        "    src_embed=nn.Embedding(len(src_vocab_set), embed_size),\n",
        "    trg_embed=nn.Embedding(len(trg_vocab_set), embed_size),\n",
        "    generator=Generator(2*hidden_size, len(trg_vocab_set))).to(device)\n",
        "\n",
        "# Start training. The returned `dev_ppls` is a list of dev perplexity for each\n",
        "# epoch.\n",
        "pure_dev_ppls = train(pure_seq2seq, num_epochs=10, learning_rate=1e-3,\n",
        "                      train_data_loader=mt_train_data_loader,\n",
        "                      val_data_loader=mt_val_data_loader,\n",
        "                      task=\"seq2seq\", print_every=100)\n",
        "\n",
        "plot_perplexity(pure_dev_ppls)\n"
      ]
    },
    {
      "cell_type": "markdown",
      "metadata": {
        "id": "ljzZFE51rj5d"
      },
      "source": [
        "Run the following cell to visualize some of the translations produced by your model."
      ]
    },
    {
      "cell_type": "code",
      "execution_count": 22,
      "metadata": {
        "id": "1DcDx_xGriSP"
      },
      "outputs": [
        {
          "name": "stdout",
          "output_type": "stream",
          "text": [
            "Example #1\n",
            "Src :  Khoa học đằng sau một tiêu đề về khí hậu\n",
            "Trg :  Rachel <unk> : The science behind a climate headline\n",
            "Pred:  <unk> , a little bit about the <unk> .\n",
            "\n",
            "Example #2\n",
            "Src :  Tôi muốn cho các bạn biết về sự to lớn của những nỗ lực khoa học đã góp phần làm nên các dòng tít bạn thường thấy trên báo .\n",
            "Trg :  I &apos;d like to talk to you today about the scale of the scientific effort that goes into making the headlines you see in the paper .\n",
            "Pred:  I want to show you what the scientists are going to learn to do is to understand the most exciting thing about the art of the audience .\n",
            "\n",
            "Example #3\n",
            "Src :  Có những dòng trông như thế này khi bàn về biến đổi khí hậu , và như thế này khi nói về chất lượng không khí hay khói bụi .\n",
            "Trg :  <unk> that look like this when they have to do with climate change , and headlines that look like this when they have to do with air quality or smog .\n",
            "Pred:  These are things like this , like <unk> or Jose <unk> and <unk> , <unk> , <unk> , <unk> , <unk> , <unk> , <unk> , <unk> , <unk> , <unk> and <unk> .\n",
            "\n"
          ]
        }
      ],
      "source": [
        "example_set = MTDataset(val_src_sentences_list, src_vocab_set,\n",
        "                        val_trg_sentences_list, trg_vocab_set)\n",
        "example_data_loader = data.DataLoader(mt_val_set, batch_size=1, num_workers=1,\n",
        "                                      shuffle=False)\n",
        "\n",
        "print_examples(pure_seq2seq, example_data_loader)\n"
      ]
    },
    {
      "cell_type": "markdown",
      "metadata": {
        "id": "-Mr6dQSVsP7Z"
      },
      "source": [
        "For translation, BLEU score gives a better measure of performance than perplexity. Run this cell to compute your model's BLEU score on a test dataset. A reasonable BLEU score would be something around 6."
      ]
    },
    {
      "cell_type": "code",
      "execution_count": 23,
      "metadata": {
        "id": "cCqdcglgsMiW"
      },
      "outputs": [
        {
          "name": "stderr",
          "output_type": "stream",
          "text": [
            "100%|██████████| 1139/1139 [00:29<00:00, 38.45it/s]"
          ]
        },
        {
          "name": "stdout",
          "output_type": "stream",
          "text": [
            "5.531097600270609\n"
          ]
        },
        {
          "name": "stderr",
          "output_type": "stream",
          "text": [
            "\n"
          ]
        }
      ],
      "source": [
        "test_set = MTDataset(test_src_sentences_list, src_vocab_set,\n",
        "                     test_trg_sentences_list, trg_vocab_set, sampling=1.)\n",
        "test_data_loader = data.DataLoader(test_set, batch_size=1, num_workers=8,\n",
        "                                   shuffle=False)\n",
        "\n",
        "print(np.mean(compute_BLEU(pure_seq2seq, test_data_loader)))\n"
      ]
    },
    {
      "cell_type": "code",
      "execution_count": null,
      "metadata": {
        "id": "UV9qsM_sW8G5"
      },
      "outputs": [],
      "source": []
    }
  ],
  "metadata": {
    "accelerator": "GPU",
    "colab": {
      "collapsed_sections": [],
      "machine_shape": "hm",
      "provenance": []
    },
    "kernelspec": {
      "display_name": "Python 3.10.0 ('pset-env')",
      "language": "python",
      "name": "python3"
    },
    "language_info": {
      "name": "python",
      "version": "3.10.0"
    },
    "vscode": {
      "interpreter": {
        "hash": "e2b7c7d14c2580883456174bb0caf07fa0db1f805ee5dff26967ad348472be82"
      }
    }
  },
  "nbformat": 4,
  "nbformat_minor": 0
}
