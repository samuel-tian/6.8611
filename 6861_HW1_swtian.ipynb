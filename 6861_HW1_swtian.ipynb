{
 "cells": [
  {
   "cell_type": "code",
   "execution_count": 1,
   "metadata": {
    "colab": {
     "base_uri": "https://localhost:8080/"
    },
    "id": "FU7xWiY6TyWS",
    "outputId": "01e48c32-7646-4e69-bf9e-2a7fc3fdcd37"
   },
   "outputs": [],
   "source": [
    "# %%bash\n",
    "# !(stat -t /usr/local/lib/*/dist-packages/google/colab > /dev/null 2>&1) && exit \n",
    "# rm -rf hw2\n",
    "# git clone https://github.com/mit-6864/hw2.git"
   ]
  },
  {
   "cell_type": "code",
   "execution_count": 2,
   "metadata": {
    "id": "A0MHaHrdUACZ"
   },
   "outputs": [],
   "source": [
    "import sys\n",
    "sys.path.append(\"hw2\")\n",
    "\n",
    "import csv\n",
    "import itertools as it\n",
    "import numpy as np\n",
    "import sklearn.decomposition\n",
    "from tqdm import tqdm\n",
    "\n",
    "import lab_util"
   ]
  },
  {
   "cell_type": "markdown",
   "metadata": {
    "id": "cZ3MUj4iUf76"
   },
   "source": [
    "# Introduction\n",
    "\n",
    "In this notebook, you will find code scaffolding for the implementation portion of Homework 1. There are certain parts of the scaffolding marked with `# Your code here!` comments where you can fill in code to perform the specified tasks. You should be able to complete this assignment without changing any of the scaffolding code, just writing code to fill in the scaffolding and run experiments. Make sure to read the text between cells for certain implementation details. Please submit the notebook with all code cells run.\n",
    "\n",
    "This notebook can be done independently of the handout and will be graded based on the code and cell outputs. However, certain questions on the handout require you to design and perform experiments to evaluate the methods used here. There is space at the end of the notebook for you to carry these experiments out. \n"
   ]
  },
  {
   "cell_type": "markdown",
   "metadata": {
    "id": "gG654Y9J3yHw"
   },
   "source": [
    "## Dataset\n",
    "\n",
    "We're going to be working with a dataset of product reviews. The following cell loads the dataset and splits it into training, validation, and test sets."
   ]
  },
  {
   "cell_type": "code",
   "execution_count": 3,
   "metadata": {
    "colab": {
     "base_uri": "https://localhost:8080/"
    },
    "collapsed": true,
    "id": "JwiX-Tc9V1xI",
    "outputId": "814d4c3d-7396-4075-aa18-830165701286"
   },
   "outputs": [
    {
     "name": "stdout",
     "output_type": "stream",
     "text": [
      "review: I have bought several of the Vitality canned dog food products and have found them all to be of good quality. The product looks more like a stew than a processed meat and it smells better. My Labrador is finicky and she appreciates this product better than  most.\n",
      "rating: 1 (good)\n",
      "\n",
      "review: Product arrived labeled as Jumbo Salted Peanuts...the peanuts were actually small sized unsalted. Not sure if this was an error or if the vendor intended to represent the product as \"Jumbo\".\n",
      "rating: 0 (bad)\n",
      "\n",
      "review: This is a confection that has been around a few centuries.  It is a light, pillowy citrus gelatin with nuts - in this case Filberts. And it is cut into tiny squares and then liberally coated with powdered sugar.  And it is a tiny mouthful of heaven.  Not too chewy, and very flavorful.  I highly recommend this yummy treat.  If you are familiar with the story of C.S. Lewis' \"The Lion, The Witch, and The Wardrobe\" - this is the treat that seduces Edmund into selling out his Brother and Sisters to the Witch.\n",
      "rating: 1 (good)\n",
      "\n",
      "review: If you are looking for the secret ingredient in Robitussin I believe I have found it.  I got this in addition to the Root Beer Extract I ordered (which was good) and made some cherry soda.  The flavor is very medicinal.\n",
      "rating: 0 (bad)\n",
      "\n",
      "review: Great taffy at a great price.  There was a wide assortment of yummy taffy.  Delivery was very quick.  If your a taffy lover, this is a deal.\n",
      "rating: 1 (good)\n",
      "\n",
      "review: I got a wild hair for taffy and ordered this five pound bag. The taffy was all very enjoyable with many flavors: watermelon, root beer, melon, peppermint, grape, etc. My only complaint is there was a bit too much red/black licorice-flavored pieces (just not my particular favorites). Between me, my kids, and my husband, this lasted only two weeks! I would recommend this brand of taffy -- it was a delightful treat.\n",
      "rating: 1 (good)\n",
      "\n",
      "Read 4000 total reviews.\n"
     ]
    }
   ],
   "source": [
    "data = []\n",
    "n_positive = 0\n",
    "n_disp = 0\n",
    "with open(\"hw2/reviews.csv\") as reader:\n",
    "    csvreader = csv.reader(reader)\n",
    "    next(csvreader)\n",
    "    for id, review, label in csvreader:\n",
    "        label = int(label)\n",
    "\n",
    "        # hacky class balancing\n",
    "        if label == 1:\n",
    "            if n_positive == 2000:\n",
    "                continue\n",
    "            n_positive += 1\n",
    "        if len(data) == 4000:\n",
    "            break\n",
    "\n",
    "        data.append((review, label))\n",
    "\n",
    "        if n_disp > 5:\n",
    "            continue\n",
    "        n_disp += 1\n",
    "        print(\"review:\", review)\n",
    "        print(\"rating:\", label, \"(good)\" if label == 1 else \"(bad)\")\n",
    "        print()\n",
    "\n",
    "print(f\"Read {len(data)} total reviews.\")\n",
    "np.random.seed(0)\n",
    "np.random.shuffle(data)\n",
    "reviews, labels = zip(*data)\n",
    "train_reviews, train_labels = reviews[:3000], labels[:3000]\n",
    "val_reviews, val_labels = reviews[3000:3500], labels[3000:3500]\n",
    "test_reviews, test_labels = reviews[3500:], labels[3500:]\n"
   ]
  },
  {
   "cell_type": "markdown",
   "metadata": {
    "id": "kx9mHkiHil1N"
   },
   "source": [
    "# Preliminaries: Word-document representations\n",
    "\n",
    "We start by constructing the bag-of-words matrix (look at `/content/hw2/lab_util.py` in the file browser on the left if you want to see how this works)."
   ]
  },
  {
   "cell_type": "code",
   "execution_count": 4,
   "metadata": {
    "colab": {
     "base_uri": "https://localhost:8080/"
    },
    "id": "3WPt6Y7-Z_7P",
    "outputId": "346feb8e-7d6a-41e7-a1a4-1dde1f38f4af"
   },
   "outputs": [
    {
     "name": "stdout",
     "output_type": "stream",
     "text": [
      "BoW matrix is 3000 x 2006\n"
     ]
    }
   ],
   "source": [
    "vectorizer = lab_util.CountVectorizer()\n",
    "vectorizer.fit(train_reviews)\n",
    "bow_matrix = vectorizer.transform(train_reviews)\n",
    "print(f\"BoW matrix is {bow_matrix.shape[0]} x {bow_matrix.shape[1]}\")\n"
   ]
  },
  {
   "cell_type": "markdown",
   "metadata": {
    "id": "6QWx2_CJ2AT-"
   },
   "source": [
    "In class, we've seen that we can get more informative representations by using representations other than raw counts. Implement the TF-IDF transform below.\n",
    "\n",
    "Note: In lecture, we multiplied the raw term frequencies by idfs to get the TF-IDF matrix (tfidf=tf*idf). Feel free to experiment with other transformations, such as log(1+tf) for the measure of term frequency."
   ]
  },
  {
   "cell_type": "code",
   "execution_count": 5,
   "metadata": {
    "id": "1y3PmW-IgpqA"
   },
   "outputs": [
    {
     "name": "stdout",
     "output_type": "stream",
     "text": [
      "TF-IDF matrix is 2006 x 3000\n"
     ]
    }
   ],
   "source": [
    "import math\n",
    "\n",
    "class TfidfFeaturizer:\n",
    "    def fit(self, matrix):\n",
    "        # `matrix` is a `|V| x |D|` matrix of raw counts, where `|V|` is the \n",
    "        # vocabulary size and `|D|` is the number of documents in the corpus. \n",
    "        # This function should create the inverse document frequency (idf) matrix\n",
    "        # for the given term-document matrix.\n",
    "\n",
    "        V, D = matrix.shape\n",
    "        normalized = matrix > 0\n",
    "        counts = np.sum(normalized, axis=-1, keepdims=True)\n",
    "        self.idf = np.log(D / counts)\n",
    "    \n",
    "    def transform_tfidf(self, matrix):\n",
    "        # `matrix` is a `|V| x |D|` matrix of raw counts, where `|V|` is the \n",
    "        # vocabulary size and `|D|` is the number of documents in the corpus. This\n",
    "        # function should (nondestructively) return a version of `matrix` with the\n",
    "        # TF-IDF transform applied.\n",
    "        \n",
    "        # Your code here!\n",
    "        return matrix * self.idf\n",
    "\n",
    "td_matrix = bow_matrix.T\n",
    "featurizer = TfidfFeaturizer()\n",
    "featurizer.fit(td_matrix)\n",
    "tfidf_matrix = featurizer.transform_tfidf(td_matrix)\n",
    "print(f\"TF-IDF matrix is {tfidf_matrix.shape[0]} x {tfidf_matrix.shape[1]}\")"
   ]
  },
  {
   "cell_type": "markdown",
   "metadata": {
    "id": "CnfIOUYjEZjw"
   },
   "source": [
    "#### Sanity check 1\n",
    "The following cell should print `True` if your `transform_tfidf` function is implemented properly. (*Hint: in our implementation, we use the natural logarithm (base $e$) when computing inverse document frequency.*)"
   ]
  },
  {
   "cell_type": "code",
   "execution_count": 6,
   "metadata": {
    "id": "KVtphNeDEj2W"
   },
   "outputs": [
    {
     "name": "stdout",
     "output_type": "stream",
     "text": [
      "True\n"
     ]
    }
   ],
   "source": [
    "DEBUG_sc1_matrix = np.array([[3,1,0,3,0],\n",
    "                             [0,2,0,0,1],\n",
    "                             [7,8,2,0,1],\n",
    "                             [1,9,8,1,0]])\n",
    "DEBUG_gt = np.array([[1.53247687, 0.51082562, 0.        , 1.53247687, 0.        ],\n",
    "                     [0.        , 1.83258146, 0.        , 0.        , 0.91629073],\n",
    "                     [1.56200486, 1.78514841, 0.4462871 , 0.        , 0.22314355],\n",
    "                     [0.22314355, 2.00829196, 1.78514841, 0.22314355, 0.        ]])\n",
    "debug = TfidfFeaturizer()\n",
    "debug.fit(DEBUG_sc1_matrix)\n",
    "print(np.allclose(debug.transform_tfidf(DEBUG_sc1_matrix), DEBUG_gt))"
   ]
  },
  {
   "cell_type": "markdown",
   "metadata": {
    "id": "Q1RKNTu-voxT"
   },
   "source": [
    "#### Linear models on BoW and TFIDF features\n",
    "\n",
    "Now we have two feature representations, BoW and TF-IDF. Let's first see how effective these features are for the sentiment classification task. \n",
    "\n",
    "Below, implement two logistic regression models to classify the reviews, using BoW and TF-IDF respectively. You should feel free to use the `scikit-learn` library, which has the `sklearn.linear_model.LogisticRegression` available for you. Report the training and test accuracy of these two models. \n",
    "\n",
    "Note: For the TF-IDF classifier, we only fit the IDF matrix to the training data. (Think about why you might not want a separate IDF for the test set!)"
   ]
  },
  {
   "cell_type": "code",
   "execution_count": 7,
   "metadata": {
    "id": "VWcucgqlzGwu"
   },
   "outputs": [
    {
     "name": "stdout",
     "output_type": "stream",
     "text": [
      "Logistic regression with bag of word features\n",
      "train score: 0.9853333333333333\n",
      "val score: 0.826\n",
      "test score: 0.818\n",
      "Logistic regression with tf-idf features\n",
      "train score: 1.0\n",
      "val score: 0.8\n",
      "test score: 0.818\n"
     ]
    }
   ],
   "source": [
    "from sklearn.linear_model import LogisticRegression\n",
    "\n",
    "def train_and_eval(train_X, train_y, val_X, val_y, test_X, test_y):\n",
    "    # Create and train a model that takes as input a feature \n",
    "    # representation of the training data and outputs a sentiment label.\n",
    "    # Make sure to report the training and test accuracy of your model.\n",
    "    model = LogisticRegression(random_state=0, max_iter=1000)\n",
    "    model.fit(train_X, train_y)\n",
    "\n",
    "    train_score = model.score(train_X, train_y)\n",
    "    val_score = model.score(val_X, val_y)\n",
    "    test_score = model.score(test_X, test_y)\n",
    "\n",
    "    print('train score: {}'.format(train_score))\n",
    "    print('val score: {}'.format(val_score))\n",
    "    print('test score: {}'.format(test_score))\n",
    "    \n",
    "    return model\n",
    "    \n",
    "\n",
    "print('Logistic regression with bag of word features')\n",
    "train_bow = vectorizer.transform(train_reviews)\n",
    "val_bow = vectorizer.transform(val_reviews)\n",
    "test_bow = vectorizer.transform(test_reviews)\n",
    "model = train_and_eval(train_bow, train_labels, val_bow, val_labels, test_bow, test_labels)\n",
    "\n",
    "print('Logistic regression with tf-idf features')\n",
    "train_idf = featurizer.transform_tfidf(train_bow.T).T\n",
    "val_idf = featurizer.transform_tfidf(val_bow.T).T\n",
    "test_idf = featurizer.transform_tfidf(test_bow.T).T\n",
    "model_idf = train_and_eval(train_idf, train_labels, val_idf, val_labels, test_idf, test_labels)"
   ]
  },
  {
   "cell_type": "markdown",
   "metadata": {
    "id": "bXbP130wDNwd"
   },
   "source": [
    "Let's look at what the model learns about sentiment. For both models, display the top 5 most positive and negative weights, as well as their corresponding words.\n",
    "\n",
    "Hint: look at `/content/hw2/lab_util.py` for how to convert between token indices and words."
   ]
  },
  {
   "cell_type": "code",
   "execution_count": 8,
   "metadata": {
    "id": "Jn89QR_3DMM_"
   },
   "outputs": [
    {
     "name": "stdout",
     "output_type": "stream",
     "text": [
      "tokens for BOW:\n",
      "most negative: ['stick disappointed unfortunately gf yuck']\n",
      "[1548, 234, 977, 1739, 1527]\n",
      "most positive: ['long thanks best great delicious']\n",
      "[543, 618, 119, 599, 88]\n",
      "tokens for IDF\n",
      "most negative: ['not unfortunately disappointed disappointing gf']\n",
      "[3, 977, 234, 1093, 1739]\n",
      "most positive: ['long delicious tassimo best great']\n",
      "[543, 88, 70, 119, 599]\n"
     ]
    }
   ],
   "source": [
    "import copy\n",
    "\n",
    "coefs = copy.deepcopy(model.coef_)[0].tolist()\n",
    "coefs = list(zip(coefs, list(range(len(coefs)))))\n",
    "coefs.sort()\n",
    "\n",
    "smallest = [i[1] for i in coefs[:5]]\n",
    "largest = [i[1] for i in coefs[-5:]]\n",
    "\n",
    "print(\"tokens for BOW:\")\n",
    "print(\"most negative: {}\".format(vectorizer.tokenizer.de_tokenize([smallest])))\n",
    "print(smallest)\n",
    "print(\"most positive: {}\".format(vectorizer.tokenizer.de_tokenize([largest])))\n",
    "print(largest)\n",
    "\n",
    "coefs_idf = copy.deepcopy(model_idf.coef_)[0].tolist()\n",
    "coefs_idf = list(zip(coefs_idf, list(range(len(coefs_idf)))))\n",
    "coefs_idf.sort()\n",
    "\n",
    "smallest_idf = [i[1] for i in coefs_idf[:5]]\n",
    "largest_idf = [i[1] for i in coefs_idf[-5:]]\n",
    "\n",
    "print(\"tokens for IDF\")\n",
    "print(\"most negative: {}\".format(vectorizer.tokenizer.de_tokenize([smallest_idf])))\n",
    "print(smallest_idf)\n",
    "print(\"most positive: {}\".format(vectorizer.tokenizer.de_tokenize([largest_idf])))\n",
    "print(largest_idf)"
   ]
  },
  {
   "cell_type": "markdown",
   "metadata": {
    "id": "twLHWqM6Z5xD"
   },
   "source": [
    "# LSA: Word representations via matrix factorization\n",
    "\n",
    "In class, we've seen that the above approaches can lead to high dimensional representations. To alleviate this, we can use latent semantic analysis (LSA)."
   ]
  },
  {
   "cell_type": "markdown",
   "metadata": {
    "id": "hd3-pw4XbD4B"
   },
   "source": [
    "First, implement the function `learn_reps_lsa` that computes word representations via latent semantic analysis. The `sklearn.decomposition` or `np.linalg` packages may be useful."
   ]
  },
  {
   "cell_type": "code",
   "execution_count": 9,
   "metadata": {
    "id": "KASVs8KubeBE"
   },
   "outputs": [],
   "source": [
    "from sklearn.decomposition import TruncatedSVD\n",
    "\n",
    "def learn_reps_lsa(matrix, rep_size):\n",
    "    # `matrix` is a `|V| x |D|` matrix, where `|V|` is the number of words in the\n",
    "    # vocabulary and |D| is the number of training reviews. This function should \n",
    "    # return a `|V| x rep_size` matrix with each row corresponding to a word \n",
    "    # representation. The `sklearn.decomposition` package may be useful.\n",
    "\n",
    "    # Your code here!\n",
    "    u, s, vh = np.linalg.svd(matrix)\n",
    "    return u[:, :rep_size]"
   ]
  },
  {
   "cell_type": "markdown",
   "metadata": {
    "id": "0fxv02wO9LbS"
   },
   "source": [
    "#### Sanity check 2\n",
    "The following cell contains a simple sanity check for your `learn_reps_lsa` implementation: it should print `True` if your `learn_reps_lsa` function is implemented equivalently to one of our solutions."
   ]
  },
  {
   "cell_type": "code",
   "execution_count": 10,
   "metadata": {
    "id": "KsRlKB9q9Js-"
   },
   "outputs": [
    {
     "name": "stdout",
     "output_type": "stream",
     "text": [
      "True\n"
     ]
    }
   ],
   "source": [
    "DEBUG_sc2_matrix = np.array([[1,0,0,2,1,3,5],\n",
    "                             [2,0,0,0,0,4,0],\n",
    "                             [0,3,4,1,8,6,6],\n",
    "                             [1,4,5,0,0,0,0]])\n",
    "\n",
    "DEBUG_reps = learn_reps_lsa(DEBUG_sc2_matrix, 3)\n",
    "DEBUG_gt1 = np.array([[ -4.92017554,  -2.85465774,   1.18575453],\n",
    "                      [ -2.14977584,  -1.19987977,   3.37221899],\n",
    "                      [-12.62664695,   0.10890093,  -1.32131745],\n",
    "                      [ -2.69216011,   5.66453534,   1.33728063]])\n",
    "DEBUG_gt2 = np.array([[-0.35188159, -0.44213061,  0.29358929],\n",
    "                      [-0.15374788, -0.18583789,  0.83495136],\n",
    "                      [-0.90303377,  0.01686662, -0.32715426],\n",
    "                      [-0.19253817,  0.87732566,  0.3311067 ]])\n",
    "                      \n",
    "print(np.allclose(np.abs(DEBUG_reps), np.abs(DEBUG_gt1)) or np.allclose(np.abs(DEBUG_reps), np.abs(DEBUG_gt2)))"
   ]
  },
  {
   "cell_type": "markdown",
   "metadata": {
    "id": "SKWzRC0dclVK"
   },
   "source": [
    "Let's look at some representations:"
   ]
  },
  {
   "cell_type": "code",
   "execution_count": 11,
   "metadata": {
    "id": "-Ad7RZkwceWw"
   },
   "outputs": [
    {
     "name": "stdout",
     "output_type": "stream",
     "text": [
      "good 47\n",
      "  gerber 1.873\n",
      "  luck 1.885\n",
      "  crazy 1.890\n",
      "  flaxseed 1.906\n",
      "  suspect 1.907\n",
      "bad 201\n",
      "  disgusting 1.625\n",
      "  horrible 1.776\n",
      "  shortbread 1.778\n",
      "  gone 1.778\n",
      "  dont 1.802\n",
      "cookie 504\n",
      "  nana's 0.964\n",
      "  bars 1.363\n",
      "  odd 1.402\n",
      "  impossible 1.459\n",
      "  cookies 1.484\n",
      "jelly 351\n",
      "  twist 1.099\n",
      "  cardboard 1.197\n",
      "  peanuts 1.311\n",
      "  advertised 1.331\n",
      "  plastic 1.510\n",
      "dog 925\n",
      "  happier 1.670\n",
      "  earlier 1.681\n",
      "  eats 1.702\n",
      "  stays 1.722\n",
      "  standard 1.727\n",
      "the 36\n",
      "  suspect 1.953\n",
      "  flowers 1.961\n",
      "  leaked 1.966\n",
      "  m 1.966\n",
      "  burn 1.967\n",
      "4 292\n",
      "  shortbread 1.674\n",
      "  toast 1.683\n",
      "  mistake 1.690\n",
      "  2nd 1.701\n",
      "  icing 1.723\n"
     ]
    }
   ],
   "source": [
    "# LSA reps for term-document matrix\n",
    "# Feel free to change the rep size!\n",
    "reps = learn_reps_lsa(td_matrix, 500)\n",
    "words = [\"good\", \"bad\", \"cookie\", \"jelly\", \"dog\", \"the\", \"4\"]\n",
    "show_tokens = [vectorizer.tokenizer.word_to_token[word] for word in words]\n",
    "lab_util.show_similar_words(vectorizer.tokenizer, reps, show_tokens)"
   ]
  },
  {
   "cell_type": "code",
   "execution_count": 12,
   "metadata": {
    "id": "SV5xKLYTi7LA"
   },
   "outputs": [
    {
     "name": "stdout",
     "output_type": "stream",
     "text": [
      "good 47\n",
      "  crazy 1.695\n",
      "  gerber 1.753\n",
      "  beat 1.758\n",
      "  homemade 1.785\n",
      "  tasting 1.799\n",
      "bad 201\n",
      "  disgusting 1.623\n",
      "  awful 1.713\n",
      "  positive 1.715\n",
      "  bland 1.731\n",
      "  gone 1.736\n",
      "cookie 504\n",
      "  nana's 1.103\n",
      "  moist 1.388\n",
      "  odd 1.452\n",
      "  impossible 1.486\n",
      "  needs 1.509\n",
      "jelly 351\n",
      "  twist 1.156\n",
      "  cardboard 1.211\n",
      "  advertised 1.402\n",
      "  plum 1.447\n",
      "  sold 1.470\n",
      "dog 925\n",
      "  happier 1.641\n",
      "  earlier 1.658\n",
      "  foods 1.690\n",
      "  stays 1.697\n",
      "  eats 1.704\n",
      "the 36\n",
      "  <unk> 1.478\n",
      "  and 1.578\n",
      "  . 1.581\n",
      "  of 1.627\n",
      "  is 1.632\n",
      "4 292\n",
      "  mistake 1.687\n",
      "  2nd 1.707\n",
      "  toast 1.708\n",
      "  table 1.714\n",
      "  70 1.723\n"
     ]
    }
   ],
   "source": [
    "# Feel free to change the rep size!\n",
    "reps_tfidf = learn_reps_lsa(tfidf_matrix, 500)\n",
    "lab_util.show_similar_words(vectorizer.tokenizer, reps_tfidf, show_tokens)"
   ]
  },
  {
   "cell_type": "markdown",
   "metadata": {
    "id": "HO-NG4u1kG9z"
   },
   "source": [
    "Now that we have some representations, let's see if we can do something useful with them.\n",
    "\n",
    "Below, implement a feature function that represents a document as the sum of its\n",
    "learned word embeddings.\n",
    "\n",
    "The remaining code trains a logistic regression model on a set of *labeled* reviews; we're interested in seeing how much representations learned from *unlabeled* reviews improve classification."
   ]
  },
  {
   "cell_type": "code",
   "execution_count": 13,
   "metadata": {
    "id": "6B08xvIFlee3"
   },
   "outputs": [],
   "source": [
    "import sklearn.linear_model\n",
    "from sklearn.pipeline import make_pipeline\n",
    "from sklearn.preprocessing import StandardScaler\n",
    "\n",
    "def word_featurizer(xs):\n",
    "    # normalize\n",
    "    return xs / np.sqrt((xs ** 2).sum(axis=1, keepdims=True))\n",
    "\n",
    "def lsa_featurizer(xs):\n",
    "    # This function takes in a matrix in which each row contains the word counts\n",
    "    # for the given review. It should return a matrix in which each row contains\n",
    "    # the learned feature representation of each review (e.g. the sum of LSA \n",
    "    # word representations).\n",
    "\n",
    "    feats = xs @ reps_tfidf # Your code here!\n",
    "\n",
    "    # normalize\n",
    "    return feats / np.sqrt((feats ** 2).sum(axis=1, keepdims=True))\n",
    "\n",
    "def combo_featurizer(xs):\n",
    "    return np.concatenate((word_featurizer(xs), lsa_featurizer(xs)), axis=1)\n",
    "\n",
    "def train_model(featurizer, xs, ys):\n",
    "    xs_featurized = featurizer(xs)\n",
    "    model = sklearn.linear_model.LogisticRegression(penalty='none', max_iter=1000)\n",
    "    model.fit(xs_featurized, ys)\n",
    "    return model\n",
    "\n",
    "def eval_model(model, featurizer, xs, ys):\n",
    "    xs_featurized = featurizer(xs)\n",
    "    pred_ys = model.predict(xs_featurized)\n",
    "    return np.mean(pred_ys == ys)\n",
    "\n",
    "def training_experiment(name, featurizer, n_train):\n",
    "    print(f\"{name} features, {n_train} examples\")\n",
    "    train_xs = vectorizer.transform(train_reviews[:n_train])\n",
    "    train_ys = train_labels[:n_train]\n",
    "    test_xs = vectorizer.transform(test_reviews)\n",
    "    test_ys = test_labels\n",
    "    model = train_model(featurizer, train_xs, train_ys)\n",
    "    acc = eval_model(model, featurizer, test_xs, test_ys)\n",
    "    print(acc, '\\n')\n",
    "    return acc"
   ]
  },
  {
   "cell_type": "code",
   "execution_count": 14,
   "metadata": {
    "id": "Wxx5_aSR67h9"
   },
   "outputs": [
    {
     "name": "stdout",
     "output_type": "stream",
     "text": [
      "word features, 3000 examples\n",
      "0.812 \n",
      "\n",
      "lsa features, 3000 examples\n",
      "0.818 \n",
      "\n",
      "combo features, 3000 examples\n",
      "0.824 \n",
      "\n",
      "\n"
     ]
    }
   ],
   "source": [
    "# this will run a training experiment with all 3k examples in training set\n",
    "n_train = 3000\n",
    "training_experiment(\"word\", word_featurizer, n_train)\n",
    "training_experiment(\"lsa\", lsa_featurizer, n_train)\n",
    "training_experiment(\"combo\", combo_featurizer, n_train)\n",
    "print()"
   ]
  },
  {
   "cell_type": "markdown",
   "metadata": {
    "id": "AxfunCYh5nmZ"
   },
   "source": [
    "# Word2vec: word representations via neural model\n",
    "\n",
    "In this section, we'll train a word embedding model with a word2vec-style objective rather than a matrix factorization objective. This requires a little more work; we've provided scaffolding for a PyTorch model implementation below.\n",
    "If you don't have much PyTorch experience, there are some tutorials [here](https://pytorch.org/tutorials/) which may be useful. You may also find the classes `nn.Embedding` and `nn.EmbeddingBag` useful.\n",
    "\n",
    "Note: We will be implementing a CBOW model; that is, given a word's context, we will predict the central word."
   ]
  },
  {
   "cell_type": "code",
   "execution_count": 15,
   "metadata": {},
   "outputs": [
    {
     "name": "stdout",
     "output_type": "stream",
     "text": [
      "Parameter containing:\n",
      "tensor([[ 0.0860,  1.0398,  0.2955],\n",
      "        [ 0.2693,  0.5123, -0.1024],\n",
      "        [ 0.5105,  0.3874, -0.9082],\n",
      "        [-0.4169,  0.9475,  0.7513],\n",
      "        [ 0.9313,  0.8404, -0.8081],\n",
      "        [-0.9952, -1.0335,  0.4267],\n",
      "        [ 1.3421, -0.9005, -1.6710],\n",
      "        [-0.1865, -0.3252,  0.4189],\n",
      "        [ 1.5629, -1.9470, -0.0090],\n",
      "        [-1.5572,  0.3905, -1.6474]], requires_grad=True)\n"
     ]
    },
    {
     "data": {
      "text/plain": [
       "tensor([[0.3185, 0.4176, 0.2639],\n",
       "        [0.3185, 0.4176, 0.2639]], grad_fn=<SoftmaxBackward0>)"
      ]
     },
     "execution_count": 15,
     "metadata": {},
     "output_type": "execute_result"
    }
   ],
   "source": [
    "import torch\n",
    "\n",
    "embedding = torch.nn.EmbeddingBag(10, 3, mode=\"mean\")\n",
    "print(embedding.weight)\n",
    "\n",
    "vals = torch.tensor([[1, 2, 3, 4, 5], [1, 2, 3, 4, 5]], dtype=torch.long)\n",
    "v = embedding(vals)\n",
    "\n",
    "soft = torch.nn.Softmax(dim=1)\n",
    "soft(v)"
   ]
  },
  {
   "cell_type": "code",
   "execution_count": 16,
   "metadata": {
    "id": "M1napibQ6aub"
   },
   "outputs": [],
   "source": [
    "import torch\n",
    "import torch.nn as nn\n",
    "import torch.nn.functional as F\n",
    "import torch.optim as optim\n",
    "import torch.utils.data as torch_data\n",
    "\n",
    "\n",
    "class Word2VecModel(nn.Module):\n",
    "    # A torch module implementing a word2vec predictor. The `forward` function\n",
    "    # should take a batch of context word ids as input and predict the word\n",
    "    # in the middle of the context as output, as in the CBOW model from lecture.\n",
    "    # Hint: look at how padding is handled in lab_util.get_ngrams when\n",
    "    # initializing `ctx`: vocab_size is used as the padding token for contexts\n",
    "    # near the beginning and end of sequences. If you use an embedding module\n",
    "    # in your Word2Vec implementation, make sure to account for this extra\n",
    "    # padding token in the input dimension and include the `padding_idx` kwarg.\n",
    "\n",
    "    def __init__(self, vocab_size, embedding_size, padding_idx=2006):\n",
    "        super().__init__()\n",
    "\n",
    "        vocab_size += 1\n",
    "\n",
    "        self.embedding = nn.EmbeddingBag(\n",
    "            num_embeddings=vocab_size, embedding_dim=embedding_size)\n",
    "        self.linear = nn.Linear(in_features=embedding_size, out_features=vocab_size)\n",
    "        self.soft = nn.LogSoftmax(dim=1)\n",
    "\n",
    "    def forward(self, context):\n",
    "        # Context is an `n_batch x n_context` matrix of integer word ids.\n",
    "        # In this case, n_context = 2 * window_size where window_size is defined\n",
    "        # in lab_util.py. This is because each word has both left and right context.\n",
    "        # This function should return an `n_batch x vocab_size` matrix with\n",
    "        # element i, j being the (possibly log) probability of the middle word\n",
    "        # in context i being word j.\n",
    "\n",
    "        # Your code here!\n",
    "        x = self.embedding(context)\n",
    "        x = self.linear(x)\n",
    "        x = self.soft(x)\n",
    "        return x\n"
   ]
  },
  {
   "cell_type": "markdown",
   "metadata": {
    "id": "FOE4RyP9LX26"
   },
   "source": [
    "Train the model using the function below. Note that we use an [Adam optimizer](https://arxiv.org/abs/1412.6980). This is a fancy version of SGD which uses momentum and adaptive updates. \n",
    "\n"
   ]
  },
  {
   "cell_type": "code",
   "execution_count": 17,
   "metadata": {
    "id": "ePgZlityuWr3"
   },
   "outputs": [],
   "source": [
    "def learn_reps_word2vec(corpus, window_size, rep_size, n_epochs, n_batch):\n",
    "    # This method takes in a corpus of training sentences. It returns a matrix of\n",
    "    # word embeddings with the same structure as used in the previous section of \n",
    "    # the assignment. (You can extract this matrix from the parameters of the \n",
    "    # Word2VecModel.)\n",
    "\n",
    "    tokenizer = lab_util.Tokenizer()\n",
    "    tokenizer.fit(corpus)\n",
    "    tokenized_corpus = tokenizer.tokenize(corpus)\n",
    "\n",
    "    ngrams = lab_util.get_ngrams(tokenized_corpus, window_size, pad_idx=2006)\n",
    "\n",
    "    device = torch.device('cpu')  # run on colab gpu\n",
    "    model = Word2VecModel(tokenizer.vocab_size, rep_size).to(device)\n",
    "    opt = optim.Adam(model.parameters(), lr=0.001)\n",
    "\n",
    "    loader = torch_data.DataLoader(ngrams, batch_size=n_batch, shuffle=True)\n",
    "\n",
    "    # What loss function should we use for Word2Vec?\n",
    "    loss_fn = nn.NLLLoss()  # Your code here!\n",
    "\n",
    "    losses = []  # Potentially useful for debugging (loss should go down!)\n",
    "    for epoch in tqdm(range(n_epochs)):\n",
    "        epoch_loss = 0\n",
    "        for context, label in loader:\n",
    "            # As described above, `context` is a batch of context word ids, and\n",
    "            # `label` is a batch of predicted word labels.\n",
    "\n",
    "            # Here, perform a forward pass to compute predictions for the model.\n",
    "            # Your code here!\n",
    "            context = context.to(device)\n",
    "            label = label.to(device)\n",
    "            preds = model(context)\n",
    "\n",
    "\n",
    "            # Now finish the backward pass and gradient update.\n",
    "            # Remember, you need to compute the loss, zero the gradients\n",
    "            # of the model parameters, perform the backward pass, and\n",
    "            # update the model parameters.\n",
    "            # Your code here!\n",
    "            loss = loss_fn(preds, label)\n",
    "            loss.backward()\n",
    "            opt.step()\n",
    "            opt.zero_grad()\n",
    "\n",
    "\n",
    "            epoch_loss += loss.item()\n",
    "        losses.append(epoch_loss)\n",
    "\n",
    "    # Hint: you want to return a `vocab_size x embedding_size` numpy array\n",
    "    embedding_matrix = model.embedding.weight.detach().numpy()  # Your code here!\n",
    "\n",
    "    return embedding_matrix"
   ]
  },
  {
   "cell_type": "code",
   "execution_count": 18,
   "metadata": {
    "id": "aaUy1cNuB3W1"
   },
   "outputs": [
    {
     "name": "stderr",
     "output_type": "stream",
     "text": [
      "100%|██████████| 15/15 [04:34<00:00, 18.30s/it]\n"
     ]
    }
   ],
   "source": [
    "# Feel free to change the hyperparameters!\n",
    "# Use the function you just wrote to learn Word2Vec embeddings:\n",
    "reps_word2vec = learn_reps_word2vec(train_reviews, 2, 500, 15, 100)"
   ]
  },
  {
   "cell_type": "markdown",
   "metadata": {
    "id": "O3oE-tpR7I39"
   },
   "source": [
    "After training the embeddings, we can try to visualize the embedding space to see if it makes sense. First, we can take any word in the space and check its closest neighbors."
   ]
  },
  {
   "cell_type": "code",
   "execution_count": 19,
   "metadata": {
    "id": "yMW4QND56bHF"
   },
   "outputs": [
    {
     "name": "stdout",
     "output_type": "stream",
     "text": [
      "good 47\n",
      "  decent 1.528\n",
      "  disgusting 1.627\n",
      "  tasty 1.652\n",
      "  fine 1.687\n",
      "  great 1.689\n",
      "bad 201\n",
      "  clean 1.675\n",
      "  thank 1.681\n",
      "  pleasant 1.689\n",
      "  nasty 1.694\n",
      "  sugary 1.713\n",
      "cookie 504\n",
      "  house 1.652\n",
      "  creamy 1.674\n",
      "  punch 1.689\n",
      "  crackers 1.694\n",
      "  calcium 1.701\n",
      "jelly 351\n",
      "  dinners 1.676\n",
      "  vending 1.694\n",
      "  perfect 1.726\n",
      "  same 1.731\n",
      "  terrific 1.742\n",
      "dog 925\n",
      "  wet 1.608\n",
      "  canned 1.704\n",
      "  living 1.709\n",
      "  local 1.724\n",
      "  parents 1.727\n",
      "the 36\n",
      "  their 1.616\n",
      "  my 1.660\n",
      "  a 1.666\n",
      "  our 1.679\n",
      "  mrs 1.699\n",
      "4 292\n",
      "  30 1.659\n",
      "  10 1.674\n",
      "  6 1.675\n",
      "  2 1.685\n",
      "  20 1.688\n"
     ]
    }
   ],
   "source": [
    "lab_util.show_similar_words(vectorizer.tokenizer, reps_word2vec, show_tokens)"
   ]
  },
  {
   "cell_type": "markdown",
   "metadata": {
    "id": "ue-9CPSc7fi9"
   },
   "source": [
    "We can also cluster the embedding space. Clustering in 4 or more dimensions is hard to visualize, and even clustering in 2 or 3 can be difficult because there are so many words in the vocabulary. One thing we can try to do is assign cluster labels and qualitiatively look for an underlying pattern in the clusters."
   ]
  },
  {
   "cell_type": "code",
   "execution_count": 20,
   "metadata": {
    "id": "v-Yf6NMCXVx4"
   },
   "outputs": [
    {
     "name": "stdout",
     "output_type": "stream",
     "text": [
      "suspect: 9\n",
      "needed: 9\n",
      "couldn't: 9\n",
      "fed: 9\n",
      "carried: 9\n",
      "left: 9\n",
      "doing: 9\n",
      "meant: 9\n",
      "than: 9\n",
      "meal: 8\n",
      "remaining: 8\n",
      "produced: 8\n",
      "pizza: 8\n",
      "shots: 8\n",
      "should: 8\n",
      "sweetener: 7\n",
      "effort: 7\n",
      "complaint: 7\n",
      "him: 7\n",
      "number: 7\n",
      "price: 7\n",
      "gift: 7\n",
      "fell: 7\n",
      "issue: 7\n",
      "s: 6\n",
      "golden: 6\n",
      "none: 6\n",
      "oils: 6\n",
      "40: 6\n",
      "melted: 6\n",
      "sour: 6\n",
      "20: 6\n",
      "mini: 6\n",
      "salads: 6\n",
      "6: 6\n",
      "frozen: 6\n",
      "9: 6\n",
      "omega: 6\n",
      "honey: 6\n",
      "full: 6\n",
      "teeth: 5\n",
      "starbucks: 5\n",
      "third: 5\n",
      "crunch: 5\n",
      "bar: 5\n",
      "forward: 5\n",
      "barely: 5\n",
      "vitamin: 4\n",
      "lover: 4\n",
      "advertised: 4\n",
      "watching: 4\n",
      "drinks: 4\n",
      "neither: 4\n",
      "apple: 4\n",
      "mild: 4\n",
      "itself: 4\n",
      "grinder: 4\n",
      "much: 4\n",
      "labeled: 4\n",
      "less: 4\n",
      "overwhelming: 4\n",
      "result: 4\n",
      "chewy: 4\n",
      "wrapped: 3\n",
      "cilantro: 3\n",
      "sale: 3\n",
      "fantastic: 3\n",
      "hair: 3\n",
      "different: 3\n",
      "eating: 3\n",
      "careful: 3\n",
      "edible: 3\n",
      "weak: 3\n",
      "tasteless: 3\n",
      "huge: 3\n",
      "seasoned: 3\n",
      "described: 3\n",
      "lobster: 2\n",
      "companies: 2\n",
      "holes: 2\n",
      "mango: 2\n",
      "filled: 2\n",
      "below: 2\n",
      "fructose: 2\n",
      "elsewhere: 2\n",
      "daily: 2\n",
      "english: 2\n",
      "home: 2\n",
      "test: 1\n",
      "were: 1\n",
      "eat: 1\n",
      "use: 1\n",
      "stay: 1\n",
      "buy: 1\n",
      "kick: 1\n",
      "seal: 1\n",
      "week: 0\n",
      "cents: 0\n",
      "item: 0\n",
      "creme: 0\n"
     ]
    }
   ],
   "source": [
    "from sklearn.cluster import KMeans\n",
    "\n",
    "indices = KMeans(n_clusters=10).fit_predict(reps_word2vec)\n",
    "zipped = list(zip(range(vectorizer.tokenizer.vocab_size), indices))\n",
    "np.random.shuffle(zipped)\n",
    "zipped = zipped[:100]\n",
    "zipped = sorted(zipped, key=lambda x: x[1], reverse=True)\n",
    "for token, cluster_idx in zipped:\n",
    "    word = vectorizer.tokenizer.token_to_word[token]\n",
    "    print(f\"{word}: {cluster_idx}\")\n"
   ]
  },
  {
   "cell_type": "markdown",
   "metadata": {
    "id": "ci1TkENU78Wn"
   },
   "source": [
    "Finally, we can use the trained word embeddings to construct vector representations of full reviews. One common approach is to simply average all the word embeddings in the review to create an overall embedding. Implement the transform function in Word2VecFeaturizer to do this."
   ]
  },
  {
   "cell_type": "code",
   "execution_count": 21,
   "metadata": {
    "id": "A5vjmRV6Dgbu"
   },
   "outputs": [
    {
     "name": "stdout",
     "output_type": "stream",
     "text": [
      "word2vec features, 3000 examples\n",
      "0.782 \n",
      "\n",
      "\n"
     ]
    }
   ],
   "source": [
    "def w2v_featurizer(xs):\n",
    "    # This function takes in a matrix in which each row contains the word counts\n",
    "    # for the given review. It should return a matrix in which each row contains\n",
    "    # the average Word2Vec embedding of each review (hint: this will be very\n",
    "    # similar to `lsa_featurizer` from above, just using Word2Vec embeddings \n",
    "    # instead of LSA).\n",
    "    \n",
    "    feats = xs @ reps_word2vec[:-1, :] # Your code here!\n",
    "\n",
    "    # normalize\n",
    "    return feats / np.sqrt((feats ** 2).sum(axis=1, keepdims=True))\n",
    "\n",
    "training_experiment(\"word2vec\", w2v_featurizer, 3000)\n",
    "print()"
   ]
  },
  {
   "cell_type": "markdown",
   "metadata": {
    "id": "XB1nze9Jnmgw"
   },
   "source": [
    "# Experiments for HW1\n",
    "\n",
    "Below, you can implement experiments to answer the experimental questions in the HW1 handout. Please label each code cell with its relevant question part."
   ]
  },
  {
   "cell_type": "code",
   "execution_count": 22,
   "metadata": {
    "id": "l9u7BNHuoB9O"
   },
   "outputs": [
    {
     "name": "stdout",
     "output_type": "stream",
     "text": [
      "word features, 100 examples\n",
      "0.664 \n",
      "\n",
      "lsa features, 100 examples\n",
      "0.706 \n",
      "\n",
      "word2vec features, 100 examples\n",
      "0.704 \n",
      "\n",
      "word features, 200 examples\n",
      "0.73 \n",
      "\n",
      "lsa features, 200 examples\n",
      "0.746 \n",
      "\n",
      "word2vec features, 200 examples\n",
      "0.738 \n",
      "\n",
      "word features, 300 examples\n",
      "0.756 \n",
      "\n",
      "lsa features, 300 examples\n",
      "0.782 \n",
      "\n",
      "word2vec features, 300 examples\n",
      "0.748 \n",
      "\n",
      "word features, 400 examples\n",
      "0.774 \n",
      "\n",
      "lsa features, 400 examples\n",
      "0.772 \n",
      "\n",
      "word2vec features, 400 examples\n",
      "0.746 \n",
      "\n",
      "word features, 500 examples\n",
      "0.768 \n",
      "\n",
      "lsa features, 500 examples\n",
      "0.778 \n",
      "\n",
      "word2vec features, 500 examples\n",
      "0.722 \n",
      "\n",
      "word features, 600 examples\n",
      "0.764 \n",
      "\n",
      "lsa features, 600 examples\n",
      "0.772 \n",
      "\n",
      "word2vec features, 600 examples\n",
      "0.748 \n",
      "\n",
      "word features, 700 examples\n",
      "0.79 \n",
      "\n",
      "lsa features, 700 examples\n",
      "0.774 \n",
      "\n",
      "word2vec features, 700 examples\n",
      "0.754 \n",
      "\n",
      "word features, 800 examples\n",
      "0.788 \n",
      "\n",
      "lsa features, 800 examples\n",
      "0.778 \n",
      "\n",
      "word2vec features, 800 examples\n",
      "0.764 \n",
      "\n",
      "word features, 900 examples\n",
      "0.782 \n",
      "\n",
      "lsa features, 900 examples\n",
      "0.768 \n",
      "\n",
      "word2vec features, 900 examples\n",
      "0.744 \n",
      "\n",
      "word features, 1000 examples\n",
      "0.786 \n",
      "\n",
      "lsa features, 1000 examples\n",
      "0.782 \n",
      "\n",
      "word2vec features, 1000 examples\n",
      "0.73 \n",
      "\n",
      "word features, 1100 examples\n",
      "0.804 \n",
      "\n",
      "lsa features, 1100 examples\n",
      "0.798 \n",
      "\n",
      "word2vec features, 1100 examples\n",
      "0.74 \n",
      "\n",
      "word features, 1200 examples\n",
      "0.802 \n",
      "\n",
      "lsa features, 1200 examples\n",
      "0.802 \n",
      "\n",
      "word2vec features, 1200 examples\n",
      "0.752 \n",
      "\n",
      "word features, 1300 examples\n",
      "0.806 \n",
      "\n",
      "lsa features, 1300 examples\n",
      "0.792 \n",
      "\n",
      "word2vec features, 1300 examples\n",
      "0.752 \n",
      "\n",
      "word features, 1400 examples\n",
      "0.796 \n",
      "\n",
      "lsa features, 1400 examples\n",
      "0.788 \n",
      "\n",
      "word2vec features, 1400 examples\n",
      "0.758 \n",
      "\n",
      "word features, 1500 examples\n",
      "0.782 \n",
      "\n",
      "lsa features, 1500 examples\n",
      "0.788 \n",
      "\n",
      "word2vec features, 1500 examples\n",
      "0.75 \n",
      "\n",
      "word features, 1600 examples\n",
      "0.768 \n",
      "\n",
      "lsa features, 1600 examples\n",
      "0.798 \n",
      "\n",
      "word2vec features, 1600 examples\n",
      "0.728 \n",
      "\n",
      "word features, 1700 examples\n",
      "0.802 \n",
      "\n",
      "lsa features, 1700 examples\n",
      "0.784 \n",
      "\n",
      "word2vec features, 1700 examples\n",
      "0.724 \n",
      "\n",
      "word features, 1800 examples\n",
      "0.812 \n",
      "\n",
      "lsa features, 1800 examples\n",
      "0.796 \n",
      "\n",
      "word2vec features, 1800 examples\n",
      "0.732 \n",
      "\n",
      "word features, 1900 examples\n",
      "0.804 \n",
      "\n",
      "lsa features, 1900 examples\n",
      "0.788 \n",
      "\n",
      "word2vec features, 1900 examples\n",
      "0.722 \n",
      "\n",
      "word features, 2000 examples\n",
      "0.802 \n",
      "\n",
      "lsa features, 2000 examples\n",
      "0.796 \n",
      "\n",
      "word2vec features, 2000 examples\n",
      "0.732 \n",
      "\n",
      "word features, 2100 examples\n",
      "0.812 \n",
      "\n",
      "lsa features, 2100 examples\n",
      "0.804 \n",
      "\n",
      "word2vec features, 2100 examples\n",
      "0.734 \n",
      "\n",
      "word features, 2200 examples\n",
      "0.822 \n",
      "\n",
      "lsa features, 2200 examples\n",
      "0.806 \n",
      "\n",
      "word2vec features, 2200 examples\n",
      "0.738 \n",
      "\n",
      "word features, 2300 examples\n",
      "0.81 \n",
      "\n",
      "lsa features, 2300 examples\n",
      "0.794 \n",
      "\n",
      "word2vec features, 2300 examples\n",
      "0.756 \n",
      "\n",
      "word features, 2400 examples\n",
      "0.82 \n",
      "\n",
      "lsa features, 2400 examples\n",
      "0.796 \n",
      "\n",
      "word2vec features, 2400 examples\n",
      "0.756 \n",
      "\n",
      "word features, 2500 examples\n",
      "0.806 \n",
      "\n",
      "lsa features, 2500 examples\n",
      "0.8 \n",
      "\n",
      "word2vec features, 2500 examples\n",
      "0.758 \n",
      "\n",
      "word features, 2600 examples\n",
      "0.81 \n",
      "\n",
      "lsa features, 2600 examples\n",
      "0.794 \n",
      "\n",
      "word2vec features, 2600 examples\n",
      "0.77 \n",
      "\n",
      "word features, 2700 examples\n",
      "0.802 \n",
      "\n",
      "lsa features, 2700 examples\n",
      "0.808 \n",
      "\n",
      "word2vec features, 2700 examples\n",
      "0.778 \n",
      "\n",
      "word features, 2800 examples\n",
      "0.806 \n",
      "\n",
      "lsa features, 2800 examples\n",
      "0.81 \n",
      "\n",
      "word2vec features, 2800 examples\n",
      "0.776 \n",
      "\n",
      "word features, 2900 examples\n",
      "0.804 \n",
      "\n",
      "lsa features, 2900 examples\n",
      "0.808 \n",
      "\n",
      "word2vec features, 2900 examples\n",
      "0.782 \n",
      "\n",
      "word features, 3000 examples\n",
      "0.812 \n",
      "\n",
      "lsa features, 3000 examples\n",
      "0.818 \n",
      "\n",
      "word2vec features, 3000 examples\n",
      "0.782 \n",
      "\n"
     ]
    }
   ],
   "source": [
    "word_loss = []\n",
    "lsa_loss = []\n",
    "w2v_loss = []\n",
    "for i in range(100, 3000+100, 100):\n",
    "    word = training_experiment(\"word\", word_featurizer, i)\n",
    "    lsa = training_experiment(\"lsa\", lsa_featurizer, i)\n",
    "    w2v = training_experiment(\"word2vec\", w2v_featurizer, i)\n",
    "\n",
    "    word_loss.append(word)\n",
    "    lsa_loss.append(lsa)\n",
    "    w2v_loss.append(w2v)\n"
   ]
  },
  {
   "cell_type": "code",
   "execution_count": 36,
   "metadata": {},
   "outputs": [
    {
     "data": {
      "text/plain": [
       "<matplotlib.legend.Legend at 0x2b0467a00>"
      ]
     },
     "execution_count": 36,
     "metadata": {},
     "output_type": "execute_result"
    },
    {
     "data": {
      "image/png": "[encoded data removed]",
      "text/plain": [
       "<Figure size 800x480 with 1 Axes>"
      ]
     },
     "metadata": {},
     "output_type": "display_data"
    }
   ],
   "source": [
    "import matplotlib.pyplot as plt\n",
    "\n",
    "fig = plt.figure()\n",
    "fig.set_figwidth(6)\n",
    "fig.set_figwidth(8)\n",
    "fig.set_dpi(100)\n",
    "\n",
    "num_labeled = list(range(100, 3000+100, 100))\n",
    "\n",
    "plt.plot(num_labeled, word_loss, label=\"Word\")\n",
    "plt.plot(num_labeled, lsa_loss, label=\"LSA\")\n",
    "plt.plot(num_labeled, w2v_loss, label=\"Word2Vec\")\n",
    "\n",
    "plt.xlabel(\"Number of labeled samples\")\n",
    "plt.ylabel(\"Test accuracy\")\n",
    "\n",
    "plt.legend(loc=\"upper left\")"
   ]
  },
  {
   "cell_type": "code",
   "execution_count": null,
   "metadata": {},
   "outputs": [],
   "source": []
  }
 ],
 "metadata": {
  "accelerator": "GPU",
  "colab": {
   "collapsed_sections": [],
   "machine_shape": "hm",
   "provenance": []
  },
  "kernelspec": {
   "display_name": "Python 3 (ipykernel)",
   "language": "python",
   "name": "python3"
  },
  "language_info": {
   "codemirror_mode": {
    "name": "ipython",
    "version": 3
   },
   "file_extension": ".py",
   "mimetype": "text/x-python",
   "name": "python",
   "nbconvert_exporter": "python",
   "pygments_lexer": "ipython3",
   "version": "3.10.0"
  },
  "vscode": {
   "interpreter": {
    "hash": "e2b7c7d14c2580883456174bb0caf07fa0db1f805ee5dff26967ad348472be82"
   }
  }
 },
 "nbformat": 4,
 "nbformat_minor": 1
}
